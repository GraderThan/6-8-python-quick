{
 "cells": [
  {
   "cell_type": "markdown",
   "metadata": {},
   "source": [
    "# Exploring the Input and Print Functions in Python\n",
    "\n",
    "Hey there! Today, we're going to learn about two super handy functions in Python: `input()` and `print()`. These are like the basic tools for chatting with your computer! 🗨️💻\n"
   ]
  },
  {
   "cell_type": "markdown",
   "metadata": {},
   "source": [
    "\n",
    "## What is the `print()` Function?\n",
    "\n",
    "The `print()` function works like a command to display your message on the screen. It takes the message you provide and shows it for you. Here's how to use it:\n",
    "\n",
    "*Run the code in the cell below*"
   ]
  },
  {
   "cell_type": "code",
   "execution_count": null,
   "metadata": {},
   "outputs": [],
   "source": [
    "print(\"Hello developer\")"
   ]
  },
  {
   "cell_type": "markdown",
   "metadata": {},
   "source": [
    "### Try it!\n",
    "\n",
    "Change the string in the code cell below to print your favorite song lyrics.\n",
    "\n",
    "💁🏼 Make sure you include quotes `\"\"` around your lyrics!"
   ]
  },
  {
   "cell_type": "code",
   "execution_count": null,
   "metadata": {},
   "outputs": [],
   "source": [
    "print()"
   ]
  },
  {
   "cell_type": "markdown",
   "metadata": {},
   "source": [
    "\n",
    "## What is the `input()` Function?\n",
    "\n",
    "We use the `input()` function to accept user keyboard input. The code below will ask, 'What is your name?', then it will stop and wait for you to type your name.\n",
    "\n",
    "*When you run the code below, type in your name in the text field at the top of the screen above.* ☝🏽 *Press\n",
    "**Enter** when your done*"
   ]
  },
  {
   "cell_type": "code",
   "execution_count": null,
   "metadata": {},
   "outputs": [],
   "source": [
    "your_name = input(\"What is your name? \")"
   ]
  },
  {
   "cell_type": "markdown",
   "metadata": {},
   "source": [
    "## Putting it together\n",
    "\n",
    "Let's use both `input()` and `print()` functions to have a mini conversation with your computer! We'll use the `your_name` variable, where you saved your name, and display a greeting using `print()`."
   ]
  },
  {
   "cell_type": "code",
   "execution_count": null,
   "metadata": {},
   "outputs": [],
   "source": [
    "print(\"Nice to meet you,\" + your_name + \"!\")"
   ]
  },
  {
   "cell_type": "markdown",
   "metadata": {},
   "source": [
    "## Build Your Own Calculator! 🧮✨\n",
    "\n",
    "Let's make a simple and fun calculator in Python using `input`, `print`, and a new function, `float`. Ready to start? Here we go!"
   ]
  },
  {
   "cell_type": "markdown",
   "metadata": {},
   "source": [
    "### Step 1: Getting Numbers\n",
    "\n",
    "We start by using the input function to let you type in the numbers for the calculator. Complete the code by adding a second variable second_input_number, just like in the first line."
   ]
  },
  {
   "cell_type": "code",
   "execution_count": null,
   "metadata": {},
   "outputs": [],
   "source": [
    "first_input_number = input(\"Enter the first number: \")\n",
    "\n",
    "second_input_number ="
   ]
  },
  {
   "cell_type": "markdown",
   "metadata": {},
   "source": [
    "\n",
    "### Step 2: Convert to Numbers\n",
    "\n",
    "Numbers from `input` are text (strings) in Python. We convert them into actual numbers (floats) for calculations, like turning word puzzles into numbers.\n",
    "\n",
    "**Example:**\n",
    "\n",
    "```py\n",
    "number_string = \"1234\"\n",
    "number = float(number_string)\n",
    "```\n",
    "\n",
    "This changes the string `\"1234\"` into a number.\n",
    "\n",
    "- `number_string = \"1234\"`: Assigns the text `\"1234\"` to `number_string`.\n",
    "- `number = float(number_string)`: Converts `\"1234\"` from text to a float, a numeric value.\n",
    "\n",
    "Now, update the code to convert `first_input_number` and `second_input_number` into numeric values.\n"
   ]
  },
  {
   "cell_type": "code",
   "execution_count": null,
   "metadata": {},
   "outputs": [],
   "source": [
    "first_number = float(first_input_number)\n",
    "second_number = "
   ]
  },
  {
   "cell_type": "markdown",
   "metadata": {},
   "source": [
    "\n",
    "### Step 3: Do the Math!\n",
    "\n",
    "Here's where we make our calculator do the math. Finish code below so it prints\n",
    "the math `result`.\n"
   ]
  },
  {
   "cell_type": "code",
   "execution_count": null,
   "metadata": {},
   "outputs": [],
   "source": [
    "result = first_number + second_number\n",
    "\n",
    "print()"
   ]
  },
  {
   "cell_type": "markdown",
   "metadata": {},
   "source": [
    "<details>\n",
    "<summary>🔑 Click here for the full code</summary>\n",
    "\n",
    "```py\n",
    "first_input_number = input(\"Enter the first number: \")\n",
    "second_input_number = input(\"Enter the second number: \")\n",
    "\n",
    "first_number = float(first_input_number)\n",
    "second_number = float(second_input_number)\n",
    "\n",
    "result = first_number + second_number\n",
    "\n",
    "print(result)\n",
    "```\n",
    "\n",
    "</details>"
   ]
  },
  {
   "cell_type": "markdown",
   "metadata": {},
   "source": [
    "# Turtle Challenge\n",
    "\n",
    "In this Turtle Challenge, we're going to have some fun by controlling `squirtle`, our virtual turtle, using keyboard commands! 🐢🎮\n"
   ]
  },
  {
   "cell_type": "code",
   "execution_count": null,
   "metadata": {},
   "outputs": [],
   "source": [
    "from ipyturtle import Turtle\n",
    "\n",
    "squirtle = Turtle()\n",
    "\n",
    "user_input = input(\"How many feet?\")\n",
    "feet = int(user_input)\n",
    "squirtle.forward(feet)\n",
    "\n",
    "squirtle.right(int(input(\"How many degrees?\")))\n",
    "\n",
    "squirtle.forward(int(input(\"How many feet?\")))"
   ]
  },
  {
   "cell_type": "markdown",
   "metadata": {},
   "source": [
    "## What does this code do?\n",
    "\n",
    "- `user_input = input(\"How many feet?\")`: Asks the user to type in a number of feet.\n",
    "  \n",
    "- `feet = int(user_input)`: Converts the user's input into an integer and stores it in `feet`.\n",
    "  \n",
    "- `squirtle.forward(feet)`: Moves Squirtle forward by the number of feet entered.\n",
    "  \n",
    "- `squirtle.right(int(input(\"How many degrees?\")))`: Turns Squirtle to the right by a user-specified degree, with input directly converted to an integer."
   ]
  },
  {
   "cell_type": "markdown",
   "metadata": {},
   "source": [
    "## Challenge\n",
    "\n",
    "![challenge 1 image](./images/02/1.png)\n",
    "\n",
    "Starting with the code provided below, add a few more lines so that the user can\n",
    "control the turtle to draw the square shown above. Remember, you shouldn't\n",
    "hard-code any values into the `forward()` or `right()` functions. Instead, use\n",
    "the values obtained from `int(input())` for directing the turtle. \n",
    "\n",
    "Once your done with your code, try to make `squirtle` draw a square!\n",
    "\n",
    "**Hint**\n",
    "- Run the code below and type in `100`, `90`, `100`, notice how that makes a\n",
    "  single corner.\n",
    "- How many sides and corners do you need to draw a square?\n",
    "- How many times does `squirtle` need to move forward and right?\n"
   ]
  },
  {
   "cell_type": "code",
   "execution_count": null,
   "metadata": {},
   "outputs": [],
   "source": [
    "from ipyturtle import Turtle\n",
    "\n",
    "squirtle = Turtle()\n",
    "\n",
    "squirtle.forward(int(input(\"How many feet?\")))\n",
    "squirtle.right(int(input(\"How many degrees?\")))\n",
    "squirtle.forward(int(input(\"How many feet?\")))\n"
   ]
  },
  {
   "cell_type": "markdown",
   "metadata": {},
   "source": [
    "<details>\n",
    "<summary>🔑 Click here for the solution</summary>\n",
    "\n",
    "```py\n",
    "from ipyturtle import Turtle\n",
    "\n",
    "squirtle = Turtle()\n",
    "\n",
    "squirtle.forward(int(input(\"How many feet?\")))\n",
    "squirtle.right(int(input(\"How many degrees?\")))\n",
    "squirtle.forward(int(input(\"How many feet?\")))\n",
    "squirtle.right(int(input(\"How many degrees?\")))\n",
    "squirtle.forward(int(input(\"How many feet?\")))\n",
    "squirtle.right(int(input(\"How many degrees?\")))\n",
    "squirtle.forward(int(input(\"How many feet?\")))\n",
    "```\n",
    "\n",
    "</details>"
   ]
  }
 ],
 "metadata": {
  "kernelspec": {
   "display_name": ".venv",
   "language": "python",
   "name": "python3"
  },
  "language_info": {
   "codemirror_mode": {
    "name": "ipython",
    "version": 3
   },
   "file_extension": ".py",
   "mimetype": "text/x-python",
   "name": "python",
   "nbconvert_exporter": "python",
   "pygments_lexer": "ipython3",
   "version": "3.8.10"
  },
  "orig_nbformat": 4
 },
 "nbformat": 4,
 "nbformat_minor": 2
}
