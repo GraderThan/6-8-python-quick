{
 "cells": [
  {
   "cell_type": "markdown",
   "metadata": {},
   "source": [
    "# For Loops in Python 🔂\n",
    "\n",
    "<iframe width=\"560\" height=\"315\" src=\"https://www.youtube-nocookie.com/embed/DWrdbrGalDg?si=kpyAWHemzMRfPVp2\" title=\"YouTube video player\" frameborder=\"0\" allow=\"accelerometer; autoplay; clipboard-write; encrypted-media; gyroscope; picture-in-picture; web-share\" referrerpolicy=\"strict-origin-when-cross-origin\" allowfullscreen></iframe>\n",
    "\n",
    "In Python, `for` loops are a way to repeat a block of code a certain number of\n",
    "times. They are very similar to while loops, with a few differences.\n",
    "\n",
    "## What is a `for` loop?\n",
    "\n",
    "A `for` loop in Python repeats a block of code a fixed number of times, as\n",
    "opposed to based on a condition being true.\n",
    "\n",
    "```python\n",
    "for variable in sequence:\n",
    "    # Do something with variable\n",
    "```\n",
    "\n",
    "## Using `for` loops with `range()`\n",
    "\n",
    "`range()` is a built-in function in Python that generates a sequence of numbers. It is often used with `for` loops when you want to repeat an action a specific number of times. Here's how you can use it:\n",
    "\n",
    "### Basic Usage of `range()`\n",
    "\n",
    "The simplest form of `range()` is `range(n)`, where `n` is the number of times the loop will run:\n",
    "\n"
   ]
  },
  {
   "cell_type": "code",
   "execution_count": null,
   "metadata": {},
   "outputs": [],
   "source": [
    "for i in range(5):\n",
    "    print(i)"
   ]
  },
  {
   "cell_type": "markdown",
   "metadata": {},
   "source": [
    "- `for i in range(5):` tells Python to start a loop where `i` takes on the values from 0 to 4 (5 is not included).\n",
    "- `print(i)` is the action performed in each iteration of the loop. It prints the current value of `i`.\n",
    "\n",
    "This will print numbers from 0 to 4.\n",
    "\n",
    "### Specifying a Start and Stop 🚦\n",
    "\n",
    "You can also tell `range()` where to start and stop:"
   ]
  },
  {
   "cell_type": "code",
   "execution_count": null,
   "metadata": {},
   "outputs": [],
   "source": [
    "for i in range(2, 6):\n",
    "    print(i)"
   ]
  },
  {
   "cell_type": "markdown",
   "metadata": {},
   "source": [
    "This prints numbers from 2 to 5. Note that the stop value is not included in the range.\n",
    "\n",
    "### Adding a Step\n",
    "\n",
    "`range()` can also take a third argument, which specifies the step:"
   ]
  },
  {
   "cell_type": "code",
   "execution_count": null,
   "metadata": {},
   "outputs": [],
   "source": [
    "for i in range(0, 10, 2):\n",
    "    print(i)"
   ]
  },
  {
   "cell_type": "markdown",
   "metadata": {},
   "source": [
    "\n",
    "\n",
    "This will print even numbers from 0 to 8. This is because it starts from 0, and\n",
    "the increments by the step value which in this case is 2.\n",
    "\n",
    "### Try it out\n",
    "\n",
    "Experiment with different values for the start, stop, and step in the `range()` function to see how it changes the loop:"
   ]
  },
  {
   "cell_type": "code",
   "execution_count": null,
   "metadata": {},
   "outputs": [],
   "source": [
    "for i in range(1, 10, 3):\n",
    "    print(i)"
   ]
  },
  {
   "cell_type": "markdown",
   "metadata": {},
   "source": [
    "## Breaking out of a loop with `break` 💥\n",
    "\n",
    "<iframe width=\"560\" height=\"315\" src=\"https://www.youtube-nocookie.com/embed/Yw7XenP66dY?si=xArFD56zfuU1H_5F\" title=\"YouTube video player\" frameborder=\"0\" allow=\"accelerometer; autoplay; clipboard-write; encrypted-media; gyroscope; picture-in-picture; web-share\" referrerpolicy=\"strict-origin-when-cross-origin\" allowfullscreen></iframe>\n",
    "\n",
    "Sometimes, you might want to exit a loop before it has gone through all the items. You can do this with the `break` statement:"
   ]
  },
  {
   "cell_type": "code",
   "execution_count": null,
   "metadata": {},
   "outputs": [],
   "source": [
    "for i in range(100):\n",
    "    print(i)\n",
    "    if i == 5:\n",
    "        break"
   ]
  },
  {
   "cell_type": "markdown",
   "metadata": {},
   "source": [
    "- This loop starts counting from 0 up to 99.\n",
    "- When `i` equals 5, the `break` statement stops the loop, even though it's far\n",
    "  from reaching 99. This works the same way as `while` loops.\n",
    "\n",
    "### Using `continue` to skip an iteration\n",
    "\n",
    "<iframe width=\"560\" height=\"315\" src=\"https://www.youtube-nocookie.com/embed/b9Yjcogvglw?si=n4Pw5USosmwITIUF\" title=\"YouTube video player\" frameborder=\"0\" allow=\"accelerometer; autoplay; clipboard-write; encrypted-media; gyroscope; picture-in-picture; web-share\" referrerpolicy=\"strict-origin-when-cross-origin\" allowfullscreen></iframe>\n",
    "\n",
    "If you want to skip the rest of the code inside a loop for the current iteration and move to the next one, use `continue`:"
   ]
  },
  {
   "cell_type": "code",
   "execution_count": null,
   "metadata": {},
   "outputs": [],
   "source": [
    "for i in range(10):\n",
    "    if i % 2 == 0:\n",
    "        continue\n",
    "    print(i)"
   ]
  },
  {
   "cell_type": "markdown",
   "metadata": {},
   "source": [
    "\n",
    "\n",
    "- This loop prints only odd numbers between 0 and 9.\n",
    "- When `i` is even (`i % 2 == 0`), `continue` skips the `print(i)` statement.\n",
    "\n",
    "## Exercises with the Turtle Module 🐢\n",
    "\n",
    "Now, let's practice using `for` loops with the Turtle module in Python.\n",
    "\n",
    "### Exercise 1: Draw a Square 🟦\n",
    "\n",
    "Use a `for` loop to draw a square with the turtle:"
   ]
  },
  {
   "cell_type": "code",
   "execution_count": null,
   "metadata": {},
   "outputs": [],
   "source": [
    "from ipyturtle import Turtle\n",
    "\n",
    "t = Turtle()\n",
    "\n",
    "# Start Here"
   ]
  },
  {
   "cell_type": "markdown",
   "metadata": {},
   "source": [
    "\n",
    "<details>\n",
    "<summary>🔑 Click here for the solution</summary>\n",
    "\n",
    "```python\n",
    "from ipyturtle import Turtle\n",
    "\n",
    "t = Turtle()\n",
    "\n",
    "for i in range(4):\n",
    "    t.forward(100)  # Move forward 100 units\n",
    "    t.right(90)     # Turn right by 90 degrees\n",
    "\n",
    "```\n",
    "\n",
    "</details>\n",
    "\n",
    "\n",
    "### Exercise 2: Draw a Circle using Small Lines 🔴\n",
    "\n",
    "A circle can be drawn by turning the turtle slightly and moving a small distance\n",
    "multiple times in a loop."
   ]
  },
  {
   "cell_type": "code",
   "execution_count": null,
   "metadata": {},
   "outputs": [],
   "source": [
    "t = Turtle()\n",
    "\n",
    "# Start Here\n"
   ]
  },
  {
   "cell_type": "markdown",
   "metadata": {},
   "source": [
    "\n",
    "<details>\n",
    "<summary>🔑 Click here for the solution</summary>\n",
    "\n",
    "```python\n",
    "\n",
    "t = Turtle()\n",
    "\n",
    "for i in range(36):\n",
    "    t.forward(10)\n",
    "    t.right(10)\n",
    "```\n",
    "</details>\n",
    "\n",
    "### Exercise 3: Draw a Star ⭐\n",
    "\n",
    "Drawing a star involves turning the turtle by 144 degrees after making each\n",
    "line."
   ]
  },
  {
   "cell_type": "code",
   "execution_count": null,
   "metadata": {},
   "outputs": [],
   "source": [
    "t = Turtle()\n",
    "\n",
    "# Start Here"
   ]
  },
  {
   "cell_type": "markdown",
   "metadata": {},
   "source": [
    "<details>\n",
    "<summary>🔑 Click here for the solution</summary>\n",
    "\n",
    "```python\n",
    "t = Turtle()\n",
    "\n",
    "for i in range(5):\n",
    "    t.forward(100)\n",
    "    t.right(144)\n",
    "```\n",
    "</details>\n",
    "\n",
    "- In each exercise, the `for` loop is used to repeat the drawing instructions a specific number of times.\n",
    "- Experiment with the `range()` function and the turtle's `forward()` and `right()` methods to create different shapes."
   ]
  }
 ],
 "metadata": {
  "kernelspec": {
   "display_name": ".venv",
   "language": "python",
   "name": "python3"
  },
  "language_info": {
   "codemirror_mode": {
    "name": "ipython",
    "version": 3
   },
   "file_extension": ".py",
   "mimetype": "text/x-python",
   "name": "python",
   "nbconvert_exporter": "python",
   "pygments_lexer": "ipython3",
   "version": "3.8.10"
  },
  "orig_nbformat": 4
 },
 "nbformat": 4,
 "nbformat_minor": 2
}
