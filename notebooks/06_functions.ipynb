{
 "cells": [
  {
   "cell_type": "markdown",
   "metadata": {},
   "source": [
    "# Introduction to Functions in Python 📠"
   ]
  },
  {
   "cell_type": "markdown",
   "metadata": {},
   "source": [
    "\n",
    "Functions in Python are a way to group code that performs a specific task. They can make your code more organized, reusable, and easier to read.\n",
    "\n",
    "## Creating and Calling Functions 📞\n",
    "\n",
    "To create a function, we use the `def ` keyword followed by the function name and parentheses `()`. Inside the parentheses, we can define parameters. The code block within every function starts with a colon `: ` and is indented."
   ]
  },
  {
   "cell_type": "code",
   "execution_count": null,
   "metadata": {},
   "outputs": [],
   "source": [
    "def greet():\n",
    "    print(\"Hello, world!\")"
   ]
  },
  {
   "cell_type": "markdown",
   "metadata": {},
   "source": [
    "- `def greet()`: Defines a new function named `greet` that takes no parameters.\n",
    "- `print(\"Hello, world!\")`: When `greet` is called, it prints \"Hello, world!\" to the console.\n",
    "\n",
    "Notice how nothing actually happened? That's because creating a function is like\n",
    "creating a blueprint. \n",
    "You have to actually use the function for something to happen. Check it out:"
   ]
  },
  {
   "cell_type": "code",
   "execution_count": null,
   "metadata": {},
   "outputs": [],
   "source": [
    "def greet():\n",
    "    print(\"Hello, world!\")\n",
    "\n",
    "greet()"
   ]
  },
  {
   "cell_type": "markdown",
   "metadata": {},
   "source": [
    "Using a function is known as \"calling\" a function. \n",
    "\n",
    "To call a function simply use its name followed by parentheses."
   ]
  },
  {
   "cell_type": "markdown",
   "metadata": {},
   "source": [
    "\n",
    "### Try it out 🌟\n",
    "\n",
    "Try creating a function called `say_hello` that prints out \"Hello, there!\", and\n",
    "then call it."
   ]
  },
  {
   "cell_type": "code",
   "execution_count": null,
   "metadata": {},
   "outputs": [],
   "source": [
    "# Try it out"
   ]
  },
  {
   "cell_type": "markdown",
   "metadata": {},
   "source": [
    "<details>\n",
    "<summary>🔑 Click here for the solution</summary>\n",
    "\n",
    "```python\n",
    "def say_hello():\n",
    "    print(\"Hello, there!\")\n",
    "\n",
    "say_hello()\n",
    "```\n",
    "\n",
    "</details>"
   ]
  },
  {
   "cell_type": "markdown",
   "metadata": {},
   "source": [
    "## Passing Arguments to Functions ⚽\n",
    "\n",
    "Functions can take arguments, which are values you pass to the function to change its behavior or output."
   ]
  },
  {
   "cell_type": "code",
   "execution_count": null,
   "metadata": {},
   "outputs": [],
   "source": [
    "def greet(name):\n",
    "    print(\"Hello, \" + name + \"!\")\n",
    "\n",
    "greet(\"John\")"
   ]
  },
  {
   "cell_type": "markdown",
   "metadata": {},
   "source": [
    "\n",
    "- `def greet(name)`: Defines a function that takes one parameter, `name`.\n",
    "- When calling `greet`, you now need to put a string in the parentheses, like in `greet(\"John\")`.\n",
    "- Inside your function, you can reference the value passed in by the argument,\n",
    "  in this case `name`,\n",
    "- One function can have multiple arguments, they just need to be separated by commas."
   ]
  },
  {
   "cell_type": "code",
   "execution_count": null,
   "metadata": {},
   "outputs": [],
   "source": [
    "# Multi Argument Function\n",
    "def print_height(feet, inches):\n",
    "    print(\"I am \" + feet + \" feet and \" + inches + \" inches tall.\")\n",
    "\n",
    "print_height(\"five\", \"eleven\")"
   ]
  },
  {
   "cell_type": "markdown",
   "metadata": {},
   "source": [
    "\n",
    "### Try it out 🌟\n",
    "\n",
    "Create a `compliment()` function that takes in a name and prints out a\n",
    "compliment for them. Make sure to call your function to try it out."
   ]
  },
  {
   "cell_type": "code",
   "execution_count": null,
   "metadata": {},
   "outputs": [],
   "source": [
    "# Try it out\n"
   ]
  },
  {
   "cell_type": "markdown",
   "metadata": {},
   "source": [
    "<details>\n",
    "<summary>🔑 Click here for the solution</summary>\n",
    "\n",
    "```python\n",
    "def compliment(name):\n",
    "    print(name + \" is the coolest person ever!\")\n",
    "\n",
    "compliment(\"Alice\")\n",
    "```\n",
    "\n",
    "</details>"
   ]
  },
  {
   "cell_type": "markdown",
   "metadata": {},
   "source": [
    "\n",
    "## Returning Values from Functions 📤\n",
    "\n",
    "Functions can return values using the `return ` statement. Once `return ` is\n",
    "executed, the function will exit, and the value will be output.\n",
    "\n",
    "This is very useful if we want to save the result of a function."
   ]
  },
  {
   "cell_type": "code",
   "execution_count": null,
   "metadata": {},
   "outputs": [],
   "source": [
    "def add(a, b):\n",
    "    return a + b\n",
    "\n",
    "sum = add(5, 6)\n",
    "\n",
    "print(sum)"
   ]
  },
  {
   "cell_type": "markdown",
   "metadata": {},
   "source": [
    "- `def add(a, b):` creates a function called add that takes in two arguments\n",
    "- `return a + b`: Calculates the sum of `a` and `b`, then returns that value.\n",
    "\n",
    "### Try it out 🌟\n",
    "\n",
    "Write a function called `multiply` that takes two arguments and returns their\n",
    "product. Save that value in a variable and print it."
   ]
  },
  {
   "cell_type": "code",
   "execution_count": null,
   "metadata": {},
   "outputs": [],
   "source": [
    "# Try it out\n"
   ]
  },
  {
   "cell_type": "markdown",
   "metadata": {},
   "source": [
    "<details>\n",
    "<summary>🔑 Click here for the solution</summary>\n",
    "\n",
    "```python\n",
    "def multiply(x, y):\n",
    "    return x * y\n",
    "\n",
    "product = multiply(5, 7)\n",
    "\n",
    "print(product)\n",
    "```\n",
    "\n",
    "</details>"
   ]
  },
  {
   "cell_type": "markdown",
   "metadata": {},
   "source": [
    "## Variables in Functions 🗠\n",
    "\n",
    "Variables inside of functions work almost the same as variables outside of\n",
    "functions. You can create them, reference them, and assign values to them."
   ]
  },
  {
   "cell_type": "code",
   "execution_count": null,
   "metadata": {},
   "outputs": [],
   "source": [
    "def age_in_days(age):\n",
    "    days_in_year = 365\n",
    "    return age * days_in_year\n",
    "\n",
    "days = age_in_days(7)\n",
    "\n",
    "print(days)"
   ]
  },
  {
   "cell_type": "markdown",
   "metadata": {},
   "source": [
    "In the example above, `days_in_year` is a variable we created inside of a\n",
    "function. `days` is a variable we created outside of a function. We used them\n",
    "both with no issues. \n",
    "\n",
    "Now what if we have the same variable inside of and outside of a function? \n",
    "\n",
    "Run the block below to find out"
   ]
  },
  {
   "cell_type": "code",
   "execution_count": null,
   "metadata": {},
   "outputs": [],
   "source": [
    "days = 7\n",
    "\n",
    "def change_days():\n",
    "    days = 5\n",
    "\n",
    "change_days()\n",
    "\n",
    "print(days)"
   ]
  },
  {
   "cell_type": "markdown",
   "metadata": {},
   "source": [
    "Notice how even though we set `days` equal to 5 inside of the `change_days`\n",
    "function, `days` is still 7 when we print it out. \n",
    "\n",
    "This is because in Python, functions are treated like bubbles. All of the\n",
    "information in the function is separated from the outside.\n",
    "\n",
    "This is why `days` still prints as 7, because the `days` inside `change_days` is\n",
    "inside a different bubble.\n",
    "\n",
    "This is why we need arguments and return values to share information to and from\n",
    "functions.\n",
    "\n",
    "## What Else Can Go in Functions? 🗺️\n",
    "\n",
    "Everything we have learned so far!\n",
    "\n",
    "Variables, if/else statements, while loops, for loops, lists, etc.\n",
    "\n",
    "You don't have to understand what is happening inside of function below, but\n",
    "check out all the different python structures we are using in one function!"
   ]
  },
  {
   "cell_type": "code",
   "execution_count": null,
   "metadata": {},
   "outputs": [],
   "source": [
    "def complicated_function(size):\n",
    "    # Initialize the pyramid list\n",
    "    pyramid = []\n",
    "\n",
    "    # For loop to construct each level of the pyramid\n",
    "    for i in range(size):\n",
    "        level = ''  # Initialize an empty string for the current level\n",
    "        spaces = size - i - 1  # Calculate the number of spaces before the stars begin\n",
    "\n",
    "        # While loop to add spaces to the level string\n",
    "        while spaces > 0:\n",
    "            level += ' '\n",
    "            spaces -= 1\n",
    "\n",
    "        # For loop to add stars to the level string\n",
    "        for j in range(2*i + 1):\n",
    "            level += '*'\n",
    "\n",
    "        # Append the completed level to the pyramid list\n",
    "        pyramid.append(level)\n",
    "\n",
    "    # For loop to print each level of the pyramid\n",
    "    for level in pyramid:\n",
    "        print(level)\n",
    "\n",
    "# Example usage\n",
    "complicated_function(8)"
   ]
  },
  {
   "cell_type": "markdown",
   "metadata": {},
   "source": [
    "\n",
    "\n",
    "## Turtle Challenges 🐢\n",
    "\n",
    "### Drawing a Square 🟪\n",
    "\n",
    "Let's transform our previous solution to use a function called `draw_square()`\n",
    "that takes in the turtle and the size of each side as arguments."
   ]
  },
  {
   "cell_type": "code",
   "execution_count": null,
   "metadata": {},
   "outputs": [],
   "source": [
    "from ipyturtle import Turtle\n",
    "\n",
    "t = Turtle()\n"
   ]
  },
  {
   "cell_type": "markdown",
   "metadata": {},
   "source": [
    "<details>\n",
    "<summary>🔑 Click here for the solution</summary>\n",
    "\n",
    "```python\n",
    "from ipyturtle import Turtle\n",
    "\n",
    "t = Turtle()\n",
    "\n",
    "def draw_square(turtle, size):\n",
    "    for i in range(4):\n",
    "        turtle.forward(size)\n",
    "        turtle.right(90)\n",
    "\n",
    "\n",
    "draw_square(t, 100)\n",
    "```\n",
    "\n",
    "</details>"
   ]
  },
  {
   "cell_type": "markdown",
   "metadata": {},
   "source": [
    "### Draw N Squares 🟪🟦🟥\n",
    "\n",
    "Now create a function called `draw_n_squares()` which takes in a number n\n",
    "and  uses your `draw_squares()` function to draw n squares of different sizes\n",
    "\n",
    "*Hint: You probably want to use a loop*\n",
    "\n",
    "Make sure to test it with different values of n"
   ]
  },
  {
   "cell_type": "code",
   "execution_count": null,
   "metadata": {},
   "outputs": [],
   "source": [
    "from ipyturtle import Turtle\n",
    "\n",
    "t = Turtle()\n",
    "\n",
    "# Add Your draw_square() function from above here\n",
    "\n",
    "\n",
    "# Create the draw_n_squares function here\n"
   ]
  },
  {
   "cell_type": "markdown",
   "metadata": {},
   "source": [
    "<details>\n",
    "<summary>🔑 Click here for the solution</summary>\n",
    "\n",
    "```python\n",
    "from ipyturtle import Turtle\n",
    "\n",
    "t = Turtle()\n",
    "\n",
    "# Add Your draw_square() function from above here\n",
    "def draw_square(turtle, size):\n",
    "    for i in range(4):\n",
    "        turtle.forward(size)\n",
    "        turtle.right(90)\n",
    "\n",
    "# Create the draw_n_squares function here\n",
    "def draw_n_squares(turtle, n):\n",
    "    for i in range(1, n+1):\n",
    "        draw_square(turtle, 10*i)\n",
    "\n",
    "\n",
    "draw_n_squares(t, 5)\n",
    "```\n",
    "\n",
    "</details>"
   ]
  }
 ],
 "metadata": {
  "kernelspec": {
   "display_name": ".venv",
   "language": "python",
   "name": "python3"
  },
  "language_info": {
   "codemirror_mode": {
    "name": "ipython",
    "version": 3
   },
   "file_extension": ".py",
   "mimetype": "text/x-python",
   "name": "python",
   "nbconvert_exporter": "python",
   "pygments_lexer": "ipython3",
   "version": "3.8.10"
  },
  "orig_nbformat": 4
 },
 "nbformat": 4,
 "nbformat_minor": 2
}
