{
 "cells": [
  {
   "cell_type": "markdown",
   "metadata": {},
   "source": [
    "# Understanding If/Else Statements in Python\n",
    "\n",
    "If/else statements are crucial for decision-making in Python. They allow your program to execute different blocks of code based on certain conditions."
   ]
  },
  {
   "cell_type": "markdown",
   "metadata": {},
   "source": [
    "# Syntax of if statement\n",
    "\n",
    "```python\n",
    "if condition:\n",
    "    # code to execute if condition is true\n",
    "```"
   ]
  },
  {
   "cell_type": "markdown",
   "metadata": {},
   "source": [
    "# Example of if statement\n",
    "\n",
    "*Run the cell below to see it in action*"
   ]
  },
  {
   "cell_type": "code",
   "execution_count": null,
   "metadata": {},
   "outputs": [],
   "source": [
    "temperature = 75\n",
    "if temperature > 70:\n",
    "    print(\"It's a warm day!\")"
   ]
  },
  {
   "cell_type": "markdown",
   "metadata": {},
   "source": [
    "\n",
    "# Syntax of if/else statement\n",
    "\n",
    "```python\n",
    "if condition:\n",
    "    # code to execute if condition is true\n",
    "else:\n",
    "    # code to execute if condition is false\n",
    "```\n"
   ]
  },
  {
   "cell_type": "markdown",
   "metadata": {},
   "source": [
    "\n",
    "# Example of if/else statement"
   ]
  },
  {
   "cell_type": "code",
   "execution_count": null,
   "metadata": {},
   "outputs": [],
   "source": [
    "temperature = 65\n",
    "if temperature > 70:\n",
    "    print(\"It's a warm day!\")\n",
    "else:\n",
    "    print(\"It's a bit chilly today!\")"
   ]
  },
  {
   "cell_type": "markdown",
   "metadata": {},
   "source": [
    "\n",
    "- **If statement**: Starts with the `if ` keyword followed by a condition. If the condition evaluates to True, the indented block of code underneath it runs.\n",
    "- **Else statement**: Follows an `if ` block and is executed if the `if ` condition is False. No additional condition is checked for the `else ` block."
   ]
  },
  {
   "cell_type": "markdown",
   "metadata": {},
   "source": [
    "\n",
    "# Try it out! 🌟\n",
    "\n",
    "Modify the `temperature` variable below to different values and observe how the program's output changes based on the condition."
   ]
  },
  {
   "cell_type": "code",
   "execution_count": null,
   "metadata": {},
   "outputs": [],
   "source": [
    "temperature = 80  # Try setting this to different temperatures\n",
    "if temperature > 70:\n",
    "    print(\"It's a warm day!\")\n",
    "else:\n",
    "    print(\"It's a bit chilly today!\")"
   ]
  },
  {
   "cell_type": "markdown",
   "metadata": {},
   "source": [
    "\n",
    "# Diving Deeper: Elif Statements\n",
    "\n",
    "When you have more than two paths to choose from based on multiple conditions, use `elif ` (short for \"else if\").\n",
    "\n",
    "```python\n",
    "# Syntax for if/elif/else statement\n",
    "if condition:\n",
    "    # code to execute if condition is true\n",
    "elif another_condition:\n",
    "    # code to execute if the second condition is true\n",
    "else:\n",
    "    # code to execute if none of the conditions are true"
   ]
  },
  {
   "cell_type": "markdown",
   "metadata": {},
   "source": [
    "\n",
    "# Example of if/elif/else statement"
   ]
  },
  {
   "cell_type": "code",
   "execution_count": null,
   "metadata": {},
   "outputs": [],
   "source": [
    "temperature = 65\n",
    "if temperature > 80:\n",
    "    print(\"It's really hot outside!\")\n",
    "elif temperature > 60:\n",
    "    print(\"It's comfortable outside.\")\n",
    "else:\n",
    "    print(\"It's cold outside.\")"
   ]
  },
  {
   "cell_type": "markdown",
   "metadata": {},
   "source": [
    "\n",
    "- **Elif statement**: Comes after an `if ` statement and before an `else ` statement. It checks a new condition if the `if ` condition is False.\n",
    "- You can have multiple `elif ` statements between an `if ` and an `else ` to check various conditions.\n",
    "- In the example, `temperature` is 65, so the program prints \"It's comfortable outside.\" because it meets the condition of the `elif ` block.\n",
    "\n",
    "# Try it out\n",
    "\n",
    "Adjust the `temperature` value again, experimenting with different conditions to see how `elif ` influences which block of code gets executed."
   ]
  },
  {
   "cell_type": "code",
   "execution_count": null,
   "metadata": {},
   "outputs": [],
   "source": [
    "temperature = 50  # Experiment with different temperatures like 85, 70, 50\n",
    "if temperature > 80:\n",
    "    print(\"It's really hot outside!\")\n",
    "elif temperature > 60:\n",
    "    print(\"It's comfortable outside.\")\n",
    "else:\n",
    "    print(\"It's cold outside.\")"
   ]
  },
  {
   "cell_type": "markdown",
   "metadata": {},
   "source": [
    "# Turtle Challenges 🐢"
   ]
  },
  {
   "cell_type": "markdown",
   "metadata": {},
   "source": [
    "## Problem 1: Change Color Based on Position 🎨\n",
    "\n",
    "Write a program where the turtle changes its color based on its position on the screen. If the turtle's x-coordinate is greater than 50, it should set its color to blue\n",
    "otherwise, it should be red.\n",
    "\n",
    "Below is some code to help get you started."
   ]
  },
  {
   "cell_type": "code",
   "execution_count": null,
   "metadata": {},
   "outputs": [],
   "source": [
    "from ipyturtle import Turtle\n",
    "\n",
    "# Create a turtle named artist\n",
    "artist = Turtle()\n",
    "\n",
    "# Move the turtle\n",
    "artist.forward(100)\n",
    "\n",
    "# Change the color to blue\n",
    "artist.color(\"blue\")\n"
   ]
  },
  {
   "cell_type": "markdown",
   "metadata": {},
   "source": [
    "\n",
    "<details>\n",
    "<summary>🔑 Click here for the solution</summary>\n",
    "\n",
    "```py\n",
    "from ipyturtle import Turtle\n",
    "\n",
    "# Create a turtle named artist\n",
    "artist = Turtle()\n",
    "\n",
    "# Move the turtle to check the condition\n",
    "artist.forward(100)  # Try changing the distance to see different effects\n",
    "\n",
    "# Check the turtle's x-coordinate\n",
    "if artist.xcor() > 50:\n",
    "    artist.color(\"blue\")\n",
    "else:\n",
    "    artist.color(\"red\")\n",
    "```\n",
    "\n",
    "</details>\n"
   ]
  },
  {
   "cell_type": "markdown",
   "metadata": {},
   "source": [
    "Now let's explore what else we can do with turtle!\n",
    "\n",
    "*Run the cell below to find out*"
   ]
  },
  {
   "cell_type": "code",
   "execution_count": null,
   "metadata": {},
   "outputs": [],
   "source": [
    "turtle = Turtle()\n",
    "\n",
    "turtle.setheading(270)\n",
    "turtle.forward(100)\n",
    "turtle.circle(50)"
   ]
  },
  {
   "cell_type": "markdown",
   "metadata": {},
   "source": [
    "## What is actually happening here?\n",
    "\n",
    "- `turtle.setheading(90)` is setting the turtle's direction upwards. Replace `90`\n",
    "with `270` and observe what happens!\n",
    "- `turtle.forward(100)` is moving the turtle forward. \n",
    "- `turtle.circle(25)` is drawing a circle. Try with different values to see how\n",
    "the circle changes!"
   ]
  },
  {
   "cell_type": "markdown",
   "metadata": {},
   "source": [
    "## Problem 2: Temperature Indicator 🌡️\n",
    "\n",
    "Simulate a temperature indicator where the turtle moves up or down on the screen based on a temperature value. If the temperature is above 25 degrees Celsius, the turtle moves up\n",
    "if it's below 25 degrees, it moves down. If it's exactly 25 degrees, the turtle\n",
    "draws a circle to indicate a neutral position.\n",
    "\n",
    "Below is some code to help you get started on this problem."
   ]
  },
  {
   "cell_type": "code",
   "execution_count": null,
   "metadata": {},
   "outputs": [],
   "source": [
    "# Create a turtle named temp_indicator\n",
    "temp_indicator = Turtle()\n",
    "\n",
    "# Set a temperature value\n",
    "temperature = 24  # Try different temperatures to see the indicator move\n",
    "\n",
    "temp_indicator.setheading(90)\n",
    "temp_indicator.forward(50)"
   ]
  },
  {
   "cell_type": "markdown",
   "metadata": {},
   "source": [
    "<details>\n",
    "<summary>🔑 Click here for the solution</summary>\n",
    "\n",
    "```py\n",
    "# Create a turtle named temp_indicator\n",
    "temp_indicator = Turtle()\n",
    "\n",
    "# Set a temperature value\n",
    "temperature = 25  # Try different temperatures to see the indicator move\n",
    "\n",
    "if temperature > 25:\n",
    "    temp_indicator.setheading(90)  # Point upwards\n",
    "    temp_indicator.forward(50)\n",
    "elif temperature < 25:\n",
    "    temp_indicator.setheading(270)  # Point downwards\n",
    "    temp_indicator.forward(50)\n",
    "else:\n",
    "    temp_indicator.circle(20)\n",
    "```\n",
    "\n",
    "</details>"
   ]
  }
 ],
 "metadata": {
  "kernelspec": {
   "display_name": ".venv",
   "language": "python",
   "name": "python3"
  },
  "language_info": {
   "codemirror_mode": {
    "name": "ipython",
    "version": 3
   },
   "file_extension": ".py",
   "mimetype": "text/x-python",
   "name": "python",
   "nbconvert_exporter": "python",
   "pygments_lexer": "ipython3",
   "version": "3.8.10"
  },
  "orig_nbformat": 4
 },
 "nbformat": 4,
 "nbformat_minor": 2
}
