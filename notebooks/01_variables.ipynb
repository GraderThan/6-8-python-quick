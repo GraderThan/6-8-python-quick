{
 "cells": [
  {
   "cell_type": "markdown",
   "metadata": {},
   "source": [
    "## Animating a Turtle 🐢 \n",
    "\n",
    "This code brings a turtle named Squirtle into our program and sets it to move\n",
    "forward 100 steps. It's like giving instructions to a virtual turtle to take a\n",
    "straight path for a specific distance.\n",
    "\n",
    "To start the code and see the turtle in action, move your\n",
    "mouse over the code and click the play button ▶️ that shows up on the side."
   ]
  },
  {
   "cell_type": "code",
   "execution_count": null,
   "metadata": {},
   "outputs": [],
   "source": [
    "from ipyturtle import Turtle\n",
    "\n",
    "squirtle = Turtle()\n",
    "distance = 100\n",
    "squirtle.forward(distance)"
   ]
  },
  {
   "cell_type": "markdown",
   "metadata": {},
   "source": [
    "### Try it out!\n",
    "\n",
    "The `distance` in the code decides how far our turtle walks, currently set to\n",
    "100 steps.\n",
    "\n",
    "**To Do:** Change the `distance` number to make the turtle walk more or fewer steps. Then hit play to see your turtle in action! 🐢👟🎉"
   ]
  },
  {
   "cell_type": "code",
   "execution_count": null,
   "metadata": {},
   "outputs": [],
   "source": [
    "from ipyturtle import Turtle\n",
    "\n",
    "squirtle = Turtle()\n",
    "distance = 100 # <- Change this number\n",
    "squirtle.forward(distance)\n"
   ]
  },
  {
   "cell_type": "markdown",
   "metadata": {},
   "source": [
    "## What is a Variable?\n",
    "\n",
    "In Python, a variable is like a labeled box 📦 where you can store things like\n",
    "numbers or words. You give the box a name and use it to keep track of\n",
    "information in your code 💻🔢✨.\n",
    "\n",
    "```py\n",
    "my_variable = 5\n",
    "```\n",
    "\n",
    "Above we've created a variable called `my_variable` with a value of 5. Variable\n",
    "names cannot have spaces so we must use underscores `_` instead."
   ]
  },
  {
   "cell_type": "markdown",
   "metadata": {},
   "source": [
    "## Math with Variables\n",
    "\n",
    "With our **variables** we can store numbers. And guess what? We can add,\n",
    "subtract, multiply, and divide these numbers!\n",
    "\n",
    "Here's a simple table of these math operators that we use in Python:\n",
    "\n",
    "| Symbol   | Operation     |\n",
    "|----------|---------------|\n",
    "| `+`      | Addition      |\n",
    "| `-`      | Subtraction   |\n",
    "| `*`      | Multiplication|\n",
    "| `/`      | Division      |"
   ]
  },
  {
   "cell_type": "markdown",
   "metadata": {},
   "source": [
    "### How to add `+` numbers?\n",
    "\n",
    "In this code, the variable `distance` is set to 200, and we use math to make Squirtle move forward a total of 250 steps by adding 50 to `distance`. 🐢➕🔢"
   ]
  },
  {
   "cell_type": "code",
   "execution_count": null,
   "metadata": {},
   "outputs": [],
   "source": [
    "from ipyturtle import Turtle\n",
    "\n",
    "squirtle = Turtle()\n",
    "distance = 200 \n",
    "squirtle.forward(distance + 50)"
   ]
  },
  {
   "cell_type": "markdown",
   "metadata": {},
   "source": [
    "#### Try it out!\n",
    "\n",
    "Change the code above 👆 by adding 150 to `distance` instead of 50, then run the code to see how far Squirtle goes this time! 🐢➕🔢🚀"
   ]
  },
  {
   "cell_type": "markdown",
   "metadata": {},
   "source": [
    "### How to subtract `-` numbers?\n",
    "\n",
    "In this code, `distance` is set to 200, and we subtract 100 from it using the `subtraction` variable, making Squirtle move forward 100 steps. 🐢➖🔢"
   ]
  },
  {
   "cell_type": "code",
   "execution_count": null,
   "metadata": {},
   "outputs": [],
   "source": [
    "from ipyturtle import Turtle\n",
    "\n",
    "squirtle = Turtle()\n",
    "distance = 200 \n",
    "subtraction = 100\n",
    "squirtle.forward(distance - subtraction)"
   ]
  },
  {
   "cell_type": "markdown",
   "metadata": {},
   "source": [
    "#### Try it out!\n",
    "\n",
    "Change the `subtraction` value to more than 200, run the code and observe what happens. Let's experiment and see the effect! 🧐🔢🚀"
   ]
  },
  {
   "cell_type": "markdown",
   "metadata": {},
   "source": [
    "### How to multiply `*` numbers?\n",
    "\n",
    "In this code, `distance` is 200, and it's multiplied by `multiplier` (which is 2), then Squirtle moves forward by the result of `distance * multiplier` (a really big number!). 🐢✖️🔢🚀"
   ]
  },
  {
   "cell_type": "code",
   "execution_count": null,
   "metadata": {},
   "outputs": [],
   "source": [
    "from ipyturtle import Turtle\n",
    "\n",
    "squirtle = Turtle()\n",
    "distance = 200 \n",
    "multiplier = 2\n",
    "result = distance * multiplier\n",
    "squirtle.forward(result)"
   ]
  },
  {
   "cell_type": "markdown",
   "metadata": {},
   "source": [
    "## How do we make turns?\n",
    "\n",
    "This code makes Squirtle, our turtle, move forward, turn right, move forward\n",
    "again, and then turn left, creating an L-shaped path. 🐢➡️↗️➡️↖️ \n",
    "\n",
    "**Run the code to check it out!**"
   ]
  },
  {
   "cell_type": "code",
   "execution_count": null,
   "metadata": {},
   "outputs": [],
   "source": [
    "from ipyturtle import Turtle\n",
    "\n",
    "squirtle = Turtle()\n",
    "squirtle.forward(100)\n",
    "squirtle.right(90)\n",
    "squirtle.forward(100)\n",
    "squirtle.left(90)"
   ]
  },
  {
   "cell_type": "markdown",
   "metadata": {},
   "source": [
    "### Math in Turns\n",
    "Turning in a circle is like cutting a pizza into slices. A full circle is 360 degrees, so half of it, like half a pizza, is 180 degrees. Let's use math to turn halfway:"
   ]
  },
  {
   "cell_type": "code",
   "execution_count": null,
   "metadata": {},
   "outputs": [],
   "source": [
    "from ipyturtle import Turtle\n",
    "\n",
    "squirtle = Turtle()\n",
    "half_way_degrees = 360 / 2\n",
    "squirtle.right(half_way_degrees)"
   ]
  },
  {
   "cell_type": "markdown",
   "metadata": {},
   "source": [
    "# Challenges\n",
    "\n",
    "Give it a shot! Make your turtle create the pictures shown below. \n",
    "\n",
    "You can do this! Create your own code in the code cells below! 🐢🎨🖥️"
   ]
  },
  {
   "cell_type": "markdown",
   "metadata": {},
   "source": [
    "## Challenge 1\n",
    "\n",
    "![challenge 1 image](./images/01/1.png)"
   ]
  },
  {
   "cell_type": "code",
   "execution_count": null,
   "metadata": {},
   "outputs": [],
   "source": [
    "from ipyturtle import Turtle\n",
    "\n",
    "t = Turtle()"
   ]
  },
  {
   "cell_type": "markdown",
   "metadata": {},
   "source": [
    "<details>\n",
    "<summary>🔑 Click here for the Solution</summary>\n",
    "\n",
    "```py\n",
    "from ipyturtle import Turtle\n",
    "\n",
    "t = Turtle()\n",
    "\n",
    "t.forward(100)\n",
    "t.left(90)\n",
    "t.forward(100)\n",
    "t.left(90)\n",
    "t.forward(100)\n",
    "t.left(90)\n",
    "t.forward(100)\n",
    "t.left(90)\n",
    "```\n",
    "\n",
    "</details>\n",
    "\n"
   ]
  },
  {
   "cell_type": "markdown",
   "metadata": {},
   "source": [
    "## Challenge 2\n",
    "\n",
    "![challenge 2 image](./images/01/2.png)"
   ]
  },
  {
   "cell_type": "code",
   "execution_count": null,
   "metadata": {},
   "outputs": [],
   "source": [
    "from ipyturtle import Turtle\n",
    "\n",
    "t = Turtle()"
   ]
  },
  {
   "cell_type": "markdown",
   "metadata": {},
   "source": [
    "<details>\n",
    "<summary>🔑 Click here for the Solution</summary>\n",
    "\n",
    "```py\n",
    "from ipyturtle import Turtle\n",
    "\n",
    "t = Turtle()\n",
    "\n",
    "t.forward(100)\n",
    "t.left(120)\n",
    "t.forward(100)\n",
    "t.left(120)\n",
    "t.forward(100)\n",
    "t.left(120)\n",
    "```\n",
    "\n",
    "</details>"
   ]
  },
  {
   "cell_type": "markdown",
   "metadata": {},
   "source": [
    "## Challenge 3\n",
    "\n",
    "![challenge 3 image](./images/01/3.png)"
   ]
  },
  {
   "cell_type": "code",
   "execution_count": null,
   "metadata": {},
   "outputs": [],
   "source": [
    "from ipyturtle import Turtle\n",
    "\n",
    "t = Turtle()"
   ]
  },
  {
   "cell_type": "markdown",
   "metadata": {},
   "source": [
    "<details>\n",
    "<summary>🔑 Click here for the Solution</summary>\n",
    "\n",
    "```py\n",
    "from ipyturtle import Turtle\n",
    "\n",
    "t = Turtle()\n",
    "\n",
    "t.forward(50)\n",
    "t.left(45)\n",
    "t.forward(50)\n",
    "t.left(45)\n",
    "t.forward(50)\n",
    "t.left(45)\n",
    "t.forward(50)\n",
    "t.left(45)\n",
    "t.forward(50)\n",
    "t.left(45)\n",
    "t.forward(50)\n",
    "t.left(45)\n",
    "t.forward(50)\n",
    "t.left(45)\n",
    "t.forward(50)\n",
    "t.left(45)\n",
    "```\n",
    "\n",
    "</details>"
   ]
  },
  {
   "cell_type": "markdown",
   "metadata": {},
   "source": [
    "## Challenge 4\n",
    "\n",
    "![challenge 4 image](./images/01/4.png)"
   ]
  },
  {
   "cell_type": "code",
   "execution_count": null,
   "metadata": {},
   "outputs": [],
   "source": [
    "from ipyturtle import Turtle\n",
    "\n",
    "t = Turtle()"
   ]
  },
  {
   "cell_type": "markdown",
   "metadata": {},
   "source": [
    "<details>\n",
    "<summary>🔑 Click here for the Solution</summary>\n",
    "\n",
    "```py\n",
    "from ipyturtle import Turtle\n",
    "\n",
    "t = Turtle()\n",
    "\n",
    "t.forward(100)\n",
    "t.left(120)\n",
    "t.forward(100)\n",
    "t.left(120)\n",
    "t.forward(100)\n",
    "t.left(120)\n",
    "\n",
    "\n",
    "t.forward(120)\n",
    "t.left(90)\n",
    "t.forward(120)\n",
    "t.left(90)\n",
    "t.forward(140)\n",
    "t.left(90)\n",
    "t.forward(120)\n",
    "t.left(90)\n",
    "t.forward(120)\n",
    "t.left(90)\n",
    "```\n",
    "\n",
    "</details>"
   ]
  },
  {
   "cell_type": "markdown",
   "metadata": {},
   "source": [
    "## Challenge 5\n",
    "\n",
    "![challenge 5 image](./images/01/5.png)"
   ]
  },
  {
   "cell_type": "code",
   "execution_count": null,
   "metadata": {},
   "outputs": [],
   "source": [
    "from ipyturtle import Turtle\n",
    "\n",
    "t = Turtle()"
   ]
  },
  {
   "cell_type": "markdown",
   "metadata": {},
   "source": [
    "<details>\n",
    "<summary>🔑 Click here for the Solution</summary>\n",
    "\n",
    "```py\n",
    "from ipyturtle import Turtle\n",
    "\n",
    "t = Turtle()\n",
    "\n",
    "s1 = 100\n",
    "t.forward(s1)\n",
    "t.left(90)\n",
    "t.forward(s1)\n",
    "t.left(90)\n",
    "t.forward(s1)\n",
    "t.left(90)\n",
    "t.forward(s1)\n",
    "t.left(90)\n",
    "\n",
    "s2= 120\n",
    "t.forward(s2)\n",
    "t.left(90)\n",
    "t.forward(s2)\n",
    "t.left(90)\n",
    "t.forward(s2)\n",
    "t.left(90)\n",
    "t.forward(s2)\n",
    "t.left(90)\n",
    "\n",
    "s3 = 140\n",
    "t.forward(s3)\n",
    "t.left(90)\n",
    "t.forward(s3)\n",
    "t.left(90)\n",
    "t.forward(s3)\n",
    "t.left(90)\n",
    "t.forward(s3)\n",
    "t.left(90)\n",
    "```\n",
    "\n",
    "</details>"
   ]
  },
  {
   "cell_type": "markdown",
   "metadata": {},
   "source": [
    "## Challenge 6\n",
    "\n",
    "![challenge 6 image](./images/01/6.png)"
   ]
  },
  {
   "cell_type": "code",
   "execution_count": null,
   "metadata": {},
   "outputs": [],
   "source": [
    "from ipyturtle import Turtle\n",
    "\n",
    "t = Turtle()"
   ]
  },
  {
   "cell_type": "markdown",
   "metadata": {},
   "source": [
    "\n",
    "<details>\n",
    "<summary>🔑 Click here for the Solution</summary>\n",
    "\n",
    "```py\n",
    "from ipyturtle import Turtle\n",
    "\n",
    "t = Turtle()\n",
    "\n",
    "s1 = 100\n",
    "t.forward(s1)\n",
    "t.left(90)\n",
    "t.forward(s1)\n",
    "t.left(90)\n",
    "t.forward(s1)\n",
    "t.left(90)\n",
    "t.forward(s1)\n",
    "t.left(90)\n",
    "\n",
    "s2 = 120\n",
    "t.forward(s2)\n",
    "t.left(90)\n",
    "t.forward(s2)\n",
    "t.left(90)\n",
    "t.forward(s2)\n",
    "t.left(90)\n",
    "t.forward(s2)\n",
    "t.left(90)\n",
    "\n",
    "s2 = 120\n",
    "t.forward(s2)\n",
    "t.right(90)\n",
    "t.forward(s2)\n",
    "t.left(90)\n",
    "t.forward(s2)\n",
    "t.left(90)\n",
    "t.forward(s2)\n",
    "t.left(90)\n",
    "\n",
    "s3 = 140\n",
    "t.forward(s3)\n",
    "t.left(90)\n",
    "t.forward(s3)\n",
    "t.left(90)\n",
    "t.forward(s3)\n",
    "t.left(90)\n",
    "t.forward(s3)\n",
    "t.left(90)\n",
    "```\n",
    "\n",
    "</details>"
   ]
  }
 ],
 "metadata": {
  "kernelspec": {
   "display_name": ".venv",
   "language": "python",
   "name": "python3"
  },
  "language_info": {
   "codemirror_mode": {
    "name": "ipython",
    "version": 3
   },
   "file_extension": ".py",
   "mimetype": "text/x-python",
   "name": "python",
   "nbconvert_exporter": "python",
   "pygments_lexer": "ipython3",
   "version": "3.8.10"
  },
  "orig_nbformat": 4
 },
 "nbformat": 4,
 "nbformat_minor": 2
}
