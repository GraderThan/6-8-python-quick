{
 "cells": [
  {
   "cell_type": "markdown",
   "metadata": {},
   "source": [
    "# Python Lists 📋\n",
    "\n",
    "Lists in Python are like super-charged variables that can hold a bunch of items under a single name. They can store different types of items, and they make organizing data a breeze!\n",
    "\n",
    "## Creating Lists ✨\n",
    "\n",
    "Creating a list in Python is as easy as putting different items between square brackets, separated by commas.\n"
   ]
  },
  {
   "cell_type": "code",
   "execution_count": null,
   "metadata": {},
   "outputs": [],
   "source": [
    "# Example of creating a list\n",
    "my_list = [1, 2, 3, \"Python\", \"is\", \"fun\"]\n",
    "print(my_list)"
   ]
  },
  {
   "cell_type": "markdown",
   "metadata": {},
   "source": [
    "\n",
    "- Lists can contain different types of elements, like numbers, strings, or even other lists.\n",
    "- They are ordered, meaning the items have a defined order that will not change.\n",
    "\n",
    "## Accessing List Elements 🔎\n",
    "\n",
    "You can get to any item in your list by referring to its position, called an\n",
    "index. Python counts from 0, so the first element has index 0. To access the\n",
    "last element, use index -1"
   ]
  },
  {
   "cell_type": "code",
   "execution_count": null,
   "metadata": {},
   "outputs": [],
   "source": [
    "# Accessing elements in a list\n",
    "my_list = [1, 2, 3, \"Python\", \"is\", \"fun\"]\n",
    "print(my_list[0])  # Outputs: 1\n",
    "print(my_list[3])  # Outputs: Python\n",
    "print(my_list[-1]) # Outputs: fun"
   ]
  },
  {
   "cell_type": "markdown",
   "metadata": {},
   "source": [
    "\n",
    "\n",
    "- Use positive indexes to start counting from the beginning(0 being the first).\n",
    "- Use negative indexes to start from the end(-1 being the last).\n",
    "\n",
    "### Try it out!\n",
    "Try to print out \"is\" by accessing `my_list` with a positive index and \"Python\"\n",
    "with a negative index"
   ]
  },
  {
   "cell_type": "code",
   "execution_count": null,
   "metadata": {},
   "outputs": [],
   "source": [
    "my_list = [1, 2, 3, \"Python\", \"is\", \"fun\"]\n",
    "\n",
    "# Add code here\n"
   ]
  },
  {
   "cell_type": "markdown",
   "metadata": {},
   "source": [
    "<details>\n",
    "<summary>🔑 Click here for the solution</summary>\n",
    "\n",
    "```python\n",
    "my_list = [1, 2, 3, \"Python\", \"is\", \"fun\"]\n",
    "\n",
    "print(my_list[4]) # Outputs: is\n",
    "print(my_list[-3]) # Outputs: Python\n",
    "\n",
    "```\n",
    "\n",
    "</details>"
   ]
  },
  {
   "cell_type": "markdown",
   "metadata": {},
   "source": [
    "## Adding and Removing From Lists ➕|➖\n",
    "\n",
    "\n",
    "Python lists are flexible, allowing you to add or remove items after the list\n",
    "has been created. There are multiple ways you can add or remove items.\n",
    "\n",
    "### Appending To a List\n",
    "\n",
    "Adding to the end of a list is called appending. Here is how you append to a\n",
    "list."
   ]
  },
  {
   "cell_type": "code",
   "execution_count": null,
   "metadata": {},
   "outputs": [],
   "source": [
    "# Adding items to a list\n",
    "my_list = [\"Python\", \"is\"]\n",
    "print(my_list)\n",
    "my_list.append(\"awesome\")\n",
    "print(my_list)"
   ]
  },
  {
   "cell_type": "markdown",
   "metadata": {},
   "source": [
    "`my_list.append(\"awesome\")` takes \"awesome\" and sticks at the end of `my_list`\n",
    "\n",
    "### Inserting Into a List\n",
    "\n",
    "Adding an item to the beginning or middle of a list is called inserting. Here is\n",
    "how you insert into a list."
   ]
  },
  {
   "cell_type": "code",
   "execution_count": null,
   "metadata": {},
   "outputs": [],
   "source": [
    "# Inserting into a list\n",
    "my_list = [\"is\", \"cool\"]\n",
    "my_list.insert(0, \"learning\")\n",
    "print(my_list)\n",
    "my_list.insert(2, \"really\")\n",
    "print(my_list)"
   ]
  },
  {
   "cell_type": "markdown",
   "metadata": {},
   "source": [
    "`my_list.insert(0, \"learning\")` is an example of how to use the `insert` method.\n",
    "\n",
    "`insert` takes in the index you want ot insert at, and the item you want to\n",
    "insert.\n",
    "\n",
    "In the example above, we inserted \"learning\" at the index 0, which is why\n",
    "\"learning\" is first in the list when we print it.\n",
    "\n",
    "### Removing an item by value\n",
    "\n",
    "You can also remove a certain value from a list. Below is an example of how to\n",
    "do that."
   ]
  },
  {
   "cell_type": "code",
   "execution_count": null,
   "metadata": {},
   "outputs": [],
   "source": [
    "# Removing by value\n",
    "word_list = [\"cool\", \"fun\", \"great\", \"mistake\", \"color\"]\n",
    "word_list.remove(\"mistake\")\n",
    "print(word_list)"
   ]
  },
  {
   "cell_type": "markdown",
   "metadata": {},
   "source": [
    "`word_list.remove(\"mistake\")` removes \"mistake\" from `word_list`\n",
    "\n",
    "The `remove` function takes the value you want to remove. It looks inside the\n",
    "list and removes the first matching value.\n",
    "\n",
    "`remove` only deletes one element, even if there are multiple matches.\n",
    "\n",
    "### Removing By Index\n",
    "\n",
    "You can also remove an item from a list based on its position in the list.\n",
    "Below is an example of how to do that."
   ]
  },
  {
   "cell_type": "code",
   "execution_count": null,
   "metadata": {},
   "outputs": [],
   "source": [
    "# Removing by index\n",
    "word_list = [\"cool\", \"fun\", \"great\", \"mistake\", \"color\"]\n",
    "word_list.pop(3)\n",
    "print(word_list)"
   ]
  },
  {
   "cell_type": "markdown",
   "metadata": {},
   "source": [
    "`word_list.pop(3)` removes the item at index 3, which is \"mistake\" in this\n",
    "example.\n",
    "\n",
    "The `pop` function removes the item at the given index."
   ]
  },
  {
   "cell_type": "markdown",
   "metadata": {},
   "source": [
    "## Checking if a Value is Inside a List 🕵️\n",
    "\n",
    "Want to know if a certain item is hiding in your list? Just ask!\n",
    "\n",
    "Below is an example of how to use the `in` keyword to check if a value is in a list"
   ]
  },
  {
   "cell_type": "code",
   "execution_count": null,
   "metadata": {},
   "outputs": [],
   "source": [
    "# Checking for a value in a list\n",
    "my_list = [\"Python\", \"Java\", \"C++\", \"Ruby\", \"PHP\"]\n",
    "if \"Python\" in my_list:\n",
    "    print(\"Python is in the list!\")"
   ]
  },
  {
   "cell_type": "markdown",
   "metadata": {},
   "source": [
    "The `in ` keyword helps you find out if an item is in a list.\n",
    "\n",
    "To use the `in` keyword, you use the following syntax:\n",
    "\n",
    "`VALUE in LIST`\n",
    "\n",
    "This logical expression will be True if VALUE is in LIST and False if it isn't.\n",
    "\n",
    "## Looping Through a List with for ➰\n",
    "\n",
    "For loops are back again! We've already used for loops with `range()`, but we\n",
    "can also use them with lists.\n",
    "\n",
    "Looping through a list lets you do something with each item, one at a time. "
   ]
  },
  {
   "cell_type": "code",
   "execution_count": null,
   "metadata": {},
   "outputs": [],
   "source": [
    "my_list = [\"red\", \"orange\", \"blue\", \"green\", \"yellow\"]\n",
    "# Looping through a list\n",
    "for item in my_list:\n",
    "    print(item)"
   ]
  },
  {
   "cell_type": "markdown",
   "metadata": {},
   "source": [
    "To loop through a list with `for`, use the following syntax:\n",
    "\n",
    "`for ITEM in LIST`\n",
    "\n",
    "For each iteration of the loop, ITEM is assigned the value of the current item\n",
    "in LIST.\n",
    "\n",
    "## Turtle Challenges 🐢\n",
    "\n",
    "### Draw a Colorful Hexagon 🌈\n",
    "\n",
    "1. Declare a list of colors. Each element of the list should be something \n",
    "like \"red\", \"green\", \"blue\" etc. \n",
    "2. Loop through the list, and draw a line with each color. \n",
    "3. After yo draw your line, turn 60 degrees to prepare for the next line. \n",
    "\n",
    "**Some helpful tips**\n",
    "\n",
    "- There should be the same number of colors as sides to a hexagon\n",
    "\n",
    "- You will need to use the `turtle.color` function to change the color of the\n",
    "turtle.\n",
    "\n",
    "- If you have a turtle called `color_turtle`, then to change it's color to red you\n",
    "would do `color_turtle.color(\"red\")`\n"
   ]
  },
  {
   "cell_type": "code",
   "execution_count": null,
   "metadata": {},
   "outputs": [],
   "source": [
    "from ipyturtle import Turtle\n",
    "\n",
    "# Create a turtle named hex_turtle\n",
    "hex_turtle = Turtle()\n",
    "\n"
   ]
  },
  {
   "cell_type": "markdown",
   "metadata": {},
   "source": [
    "<details>\n",
    "<summary>🔑 Click here for the solution</summary>\n",
    "\n",
    "```python\n",
    "from ipyturtle import Turtle\n",
    "\n",
    "# Create a turtle named hex_turtle\n",
    "hex_turtle = Turtle()\n",
    "\n",
    "# List of colors\n",
    "colors = [\"red\", \"orange\", \"yellow\", \"green\", \"blue\", \"purple\"]\n",
    "\n",
    "# Draw a hexagon\n",
    "for color in colors:\n",
    "    hex_turtle.color(color)  # Change the turtle's color\n",
    "    hex_turtle.forward(100)  # Move forward by 100 units\n",
    "    hex_turtle.right(60)     # Turn right 60 degrees\n",
    "```\n",
    "\n",
    "</details>"
   ]
  },
  {
   "cell_type": "markdown",
   "metadata": {},
   "source": [
    "### Draw A Colorful Flower 🪷\n",
    "\n",
    "Now we are going to draw a flower, where each petal is a different color. \n",
    "\n",
    "1. Create a list of colors like in the previous exercise. \n",
    "2. Loop through that list, and draw a circle for each petal. \n",
    "3. Turn a little bit after drawing each circle. Try to figure out how many\n",
    "   degrees you need to turn by for each circle\n",
    "\n",
    "\n",
    "**Some Tips**\n",
    "\n",
    "- The total number of degrees the turtle should rotate is 360\n",
    "- To draw a circle use the `turtle.circle()` function\n",
    "- If your turtle is `flower_turtle`, to draw a circle with a radius of 100\n",
    "you would do `flower_turtle.circle(100)`\n",
    "- Make sure all your petals are the same size"
   ]
  },
  {
   "cell_type": "code",
   "execution_count": 6,
   "metadata": {},
   "outputs": [
    {
     "data": {
      "application/vnd.jupyter.widget-view+json": {
       "model_id": "ca9a01f5a1cd4e239f0ace6c019db3e2",
       "version_major": 2,
       "version_minor": 0
      },
      "text/plain": [
       "Canvas(height=450, width=600)"
      ]
     },
     "metadata": {},
     "output_type": "display_data"
    }
   ],
   "source": [
    "from ipyturtle import Turtle\n",
    "\n",
    "# Create a turle\n",
    "turtle = Turtle()\n"
   ]
  },
  {
   "cell_type": "markdown",
   "metadata": {},
   "source": [
    "<details>\n",
    "<summary>🔑 Click here for the solution</summary>\n",
    "\n",
    "```python\n",
    "from ipyturtle import Turtle\n",
    "\n",
    "# Set up the screen\n",
    "turtle = Turtle()\n",
    "\n",
    "# List of rainbow colors\n",
    "rainbow_colors = [\"red\", \"orange\", \"yellow\", \"green\", \"blue\", \"violet\"]\n",
    "\n",
    "for color in rainbow_colors:\n",
    "    turtle.color(color)\n",
    "    turtle.circle(100)\n",
    "    turtle.left(60)  # Slightly tilt each circle\n",
    "```\n",
    "\n",
    "</details>"
   ]
  }
 ],
 "metadata": {
  "kernelspec": {
   "display_name": ".venv",
   "language": "python",
   "name": "python3"
  },
  "language_info": {
   "codemirror_mode": {
    "name": "ipython",
    "version": 3
   },
   "file_extension": ".py",
   "mimetype": "text/x-python",
   "name": "python",
   "nbconvert_exporter": "python",
   "pygments_lexer": "ipython3",
   "version": "3.8.10"
  },
  "orig_nbformat": 4
 },
 "nbformat": 4,
 "nbformat_minor": 2
}
