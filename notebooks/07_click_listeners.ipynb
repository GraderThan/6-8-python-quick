{
 "cells": [
  {
   "cell_type": "markdown",
   "metadata": {},
   "source": [
    "# Click Listeners in Python 🖱️👂\n",
    "\n",
    "Click listeners are essential for creating interactive applications. They listen\n",
    "for mouse click events on components and trigger specific actions in response.\n",
    "In Python, the `ipywidgets` library allows us to easily add click listeners to\n",
    "our Jupyter notebook interfaces, making it possible to create interactive\n",
    "widgets such as buttons.\n",
    "\n",
    "Try running the code below to see what it looks like in action!"
   ]
  },
  {
   "cell_type": "code",
   "execution_count": 24,
   "metadata": {},
   "outputs": [
    {
     "data": {
      "application/vnd.jupyter.widget-view+json": {
       "model_id": "3d72b3e2e42545e2b0e2c44388fcc50d",
       "version_major": 2,
       "version_minor": 0
      },
      "text/plain": [
       "Button(description='Click Me!', style=ButtonStyle())"
      ]
     },
     "metadata": {},
     "output_type": "display_data"
    },
    {
     "name": "stdout",
     "output_type": "stream",
     "text": [
      "Button clicked!\n"
     ]
    }
   ],
   "source": [
    "# Import the necessary library\n",
    "import ipywidgets as widgets\n",
    "from IPython.display import display\n",
    "\n",
    "# Create a button widget\n",
    "button = widgets.Button(description=\"Click Me!\")\n",
    "\n",
    "# Define a function to handle button clicks\n",
    "def on_button_clicked(b):\n",
    "    print(\"Button clicked!\")\n",
    "\n",
    "# Attach the click event handler to the button\n",
    "button.on_click(on_button_clicked)\n",
    "\n",
    "# Display the button\n",
    "display(button)\n"
   ]
  },
  {
   "cell_type": "markdown",
   "metadata": {},
   "source": [
    "\n",
    "\n",
    "- **Import `ipywidgets` and `IPython.display`:** These imports are crucial for creating widgets and displaying them in the Jupyter notebook.\n",
    "- **Create a button widget:** We use `widgets.Button(description=\"Click Me!\")` to create a button that users can click. The description is what appears on the button.\n",
    "- **Define the event handler function:** `on_button_clicked(b)` is the function that gets called when the button is clicked. The `print(\"Button clicked!\")` statement is a simple action to show that the click event was captured.\n",
    "- **Attach the event handler to the button:** The `button.on_click(on_button_clicked)` line connects our function to the button's click event.\n",
    "- **Display the button in the notebook:** Finally, `display(button)` shows the button widget.\n",
    "\n",
    "### Try it out 🌟\n",
    "\n",
    "Now, it's your turn to create a button and modify the event handler to display a\n",
    "different message when clicked. Try to change the button description as well!\n",
    "- **Create a new button:** Change the `description` to something new, like \"Press Me!\".\n",
    "- **Modify the event handler function:** Inside `on_your_button_clicked(b)`, change the `print` statement to display a new message, such as \"You clicked the new button!\".\n",
    "- **Attach and display:** Don't forget to attach your event handler to the new button and display it."
   ]
  },
  {
   "cell_type": "code",
   "execution_count": null,
   "metadata": {},
   "outputs": [],
   "source": [
    "import ipywidgets as widgets\n",
    "from IPython.display import display\n",
    "\n",
    "# Your Code Here\n"
   ]
  },
  {
   "cell_type": "markdown",
   "metadata": {},
   "source": [
    "<details>\n",
    "<summary>🔑 Click here for the solution</summary>\n",
    "\n",
    "```python\n",
    "import ipywidgets as widgets\n",
    "from IPython.display import display\n",
    "\n",
    "# Create your button\n",
    "your_button = widgets.Button(description=\"Press Me!\")\n",
    "\n",
    "# Define your event handler function\n",
    "def on_your_button_clicked(b):\n",
    "    print(\"You clicked the new button!\")\n",
    "\n",
    "# Attach the event handler to your button\n",
    "your_button.on_click(on_your_button_clicked)\n",
    "\n",
    "# Display your button\n",
    "display(your_button)\n",
    "```\n",
    "\n",
    "</details>"
   ]
  },
  {
   "cell_type": "markdown",
   "metadata": {},
   "source": [
    "## Multiple Click Listeners 🌌\n",
    "\n",
    "What if you want to have two different listeners at the same time?\n",
    "\n",
    "Thankfully, that's very easy to do. Simply create two sets of buttons and\n",
    "functions. \n",
    "\n",
    "See how it works in the example below."
   ]
  },
  {
   "cell_type": "code",
   "execution_count": null,
   "metadata": {},
   "outputs": [],
   "source": [
    "# Import the necessary library\n",
    "import ipywidgets as widgets\n",
    "from IPython.display import display\n",
    "\n",
    "# Create button widgets\n",
    "button1 = widgets.Button(description=\"Click Me!\")\n",
    "button2 = widgets.Button(description=\"Click Me!\")\n",
    "# Define a function to handle button clicks\n",
    "\n",
    "\n",
    "def on_button_clicked_1(b):\n",
    "    print(\"You clicked button 1\")\n",
    "\n",
    "def on_button_clicked_2(b):\n",
    "    print(\"You clicked button 2\")\n",
    "\n",
    "\n",
    "# Attach the click event handler to the button\n",
    "button1.on_click(on_button_clicked_1)\n",
    "button2.on_click(on_button_clicked_2)\n",
    "\n",
    "# Display the button\n",
    "display(button1)\n",
    "display(button2)\n"
   ]
  },
  {
   "cell_type": "markdown",
   "metadata": {},
   "source": [
    "As you can see in the code above, we did all the same steps for each button.\n",
    "Having multiple buttons and click listeners will not interfere with each other."
   ]
  },
  {
   "cell_type": "markdown",
   "metadata": {},
   "source": [
    "## Turtle Challenges 🐢\n",
    "\n",
    "Buttons just run a function every time they're clicked. Which means we can also\n",
    "use all of our turtle functions to do things as well.\n",
    "\n",
    "Below is an example of moving a turtle every time a button is clicked."
   ]
  },
  {
   "cell_type": "code",
   "execution_count": null,
   "metadata": {},
   "outputs": [],
   "source": [
    "import ipywidgets as widgets\n",
    "from IPython.display import display\n",
    "from ipyturtle import Turtle\n",
    "\n",
    "# Creating the button\n",
    "forward_button = widgets.Button(description=\"Forward\")\n",
    "\n",
    "# Creating the turtle\n",
    "turtle = Turtle()\n",
    "\n",
    "# Event handler function\n",
    "def move_forward(b):\n",
    "    turtle.forward(100)\n",
    "\n",
    "# Attach the move_forward function to the button\n",
    "forward_button.on_click(move_forward)\n",
    "\n",
    "display(forward_button)"
   ]
  },
  {
   "cell_type": "markdown",
   "metadata": {},
   "source": [
    "### 1. Turtle Controls 🕹️\n",
    "\n",
    "Add 2 more buttons so the turtle can turn left and right. \n",
    "\n",
    "This way you can navigate to wherever you want to go on the canvas."
   ]
  },
  {
   "cell_type": "code",
   "execution_count": null,
   "metadata": {},
   "outputs": [],
   "source": [
    "import ipywidgets as widgets\n",
    "from IPython.display import display\n",
    "from ipyturtle import Turtle\n",
    "\n",
    "# Creating the button\n",
    "forward_button = widgets.Button(description=\"Forward\")\n",
    "\n",
    "# Creating the turtle\n",
    "turtle = Turtle()\n",
    "\n",
    "# Event handler function\n",
    "\n",
    "\n",
    "def move_forward(b):\n",
    "    turtle.forward(100)\n",
    "\n",
    "\n",
    "# Attach the move_forward function to the button\n",
    "forward_button.on_click(move_forward)\n",
    "\n",
    "display(forward_button)\n"
   ]
  },
  {
   "cell_type": "markdown",
   "metadata": {},
   "source": [
    "<details>\n",
    "<summary>🔑 Click here for the solution</summary>\n",
    "\n",
    "```python\n",
    "import ipywidgets as widgets\n",
    "from IPython.display import display\n",
    "from ipyturtle import Turtle\n",
    "\n",
    "# Creating the button\n",
    "forward_button = widgets.Button(description=\"Forward\")\n",
    "right_button = widgets.Button(description=\"Right\")\n",
    "left_button = widgets.Button(description=\"Left\")\n",
    "\n",
    "# Creating the turtle\n",
    "turtle = Turtle()\n",
    "\n",
    "# Event handler function\n",
    "\n",
    "\n",
    "def move_forward(b):\n",
    "    turtle.forward(100)\n",
    "\n",
    "def turn_right(b):\n",
    "    turtle.right(90)\n",
    "\n",
    "def turn_left(b):\n",
    "    turtle.left(90)\n",
    "\n",
    "# Attach the move_forward function to the button\n",
    "forward_button.on_click(move_forward)\n",
    "right_button.on_click(turn_right)\n",
    "left_button.on_click(turn_left)\n",
    "\n",
    "display(forward_button)\n",
    "display(right_button)\n",
    "display(left_button)\n",
    "```\n",
    "\n",
    "</details>"
   ]
  },
  {
   "cell_type": "markdown",
   "metadata": {},
   "source": [
    "### 2. Shape Drawer 🟣\n",
    "\n",
    "For this challenge, we will be drawing some shapes on the screen based on what\n",
    "buttons are pressed. The available shapes you should have are:\n",
    "\n",
    "- Circle\n",
    "- Triangle\n",
    "- Square\n",
    "- Star\n",
    "- Octagon\n",
    "\n",
    "Before trying to draw the shapes you must clear the screen. To do this, you will\n",
    "need to use the `clear()` function."
   ]
  },
  {
   "cell_type": "code",
   "execution_count": null,
   "metadata": {},
   "outputs": [],
   "source": [
    "from ipyturtle import Turtle\n",
    "\n",
    "t = Turtle()\n",
    "\n",
    "t.forward(100)\n",
    "\n",
    "t.clear()"
   ]
  },
  {
   "cell_type": "markdown",
   "metadata": {},
   "source": [
    "As you saw in the example above, the line drawn by the turtle was cleared from\n",
    "the screen after `t.clear()` was called.\n",
    "\n",
    "Now you can get started. To give you a reference, we gave you the circle button\n",
    "already completed."
   ]
  },
  {
   "cell_type": "code",
   "execution_count": null,
   "metadata": {},
   "outputs": [],
   "source": [
    "from ipyturtle import Turtle\n",
    "import ipywidgets as widgets\n",
    "from IPython.display import display\n",
    "\n",
    "# Create the turtle\n",
    "turtle = Turtle()\n",
    "\n",
    "# Create your buttons here\n",
    "circle_button = widgets.Button(description='Circle')\n",
    "\n",
    "\n",
    "# Define your event handler functions here\n",
    "def draw_circle(b):\n",
    "    turtle.clear()\n",
    "    turtle.circle(50)\n",
    "\n",
    "\n",
    "# Attach your buttons\n",
    "circle_button.on_click(draw_circle)\n",
    "\n",
    "\n",
    "# Display your buttons\n",
    "display(circle_button)\n"
   ]
  },
  {
   "cell_type": "markdown",
   "metadata": {},
   "source": [
    "<details>\n",
    "<summary>🔑 Click here for the solution</summary>\n",
    "\n",
    "```python\n",
    "from ipyturtle import Turtle\n",
    "import ipywidgets as widgets\n",
    "from IPython.display import display\n",
    "\n",
    "# Create the turtle\n",
    "turtle = Turtle()\n",
    "\n",
    "# Create your buttons here\n",
    "circle_button = widgets.Button(description='Circle')\n",
    "triangle_button = widgets.Button(description='Triangle')\n",
    "square_button = widgets.Button(description='Square')\n",
    "star_button = widgets.Button(description='Star')\n",
    "octagon_button = widgets.Button(description='Octagon')\n",
    "\n",
    "# Define your event handler functions here\n",
    "def draw_circle(b):\n",
    "    turtle.clear()\n",
    "    turtle.circle(50)\n",
    "\n",
    "def draw_triangle(b):\n",
    "    turtle.clear()\n",
    "    for i in range(3):\n",
    "        turtle.forward(100)\n",
    "        turtle.right(120)\n",
    "\n",
    "def draw_square(b):\n",
    "    turtle.clear()\n",
    "    for i in range(4):\n",
    "        turtle.forward(100)\n",
    "        turtle.right(90)\n",
    "\n",
    "def draw_star(b):\n",
    "    turtle.clear()\n",
    "    for i in range(5):\n",
    "        turtle.forward(100)\n",
    "        turtle.right(144)\n",
    "\n",
    "def draw_octagon(b):\n",
    "    turtle.clear()\n",
    "    for i in range(8):\n",
    "        turtle.forward(50)\n",
    "        turtle.right(45)\n",
    "\n",
    "# Attach your buttons\n",
    "circle_button.on_click(draw_circle)\n",
    "triangle_button.on_click(draw_triangle)\n",
    "square_button.on_click(draw_square)\n",
    "star_button.on_click(draw_star)\n",
    "octagon_button.on_click(draw_octagon)\n",
    "\n",
    "# Display your buttons\n",
    "display(circle_button)\n",
    "display(triangle_button)\n",
    "display(square_button)\n",
    "display(star_button)\n",
    "display(octagon_button)\n",
    "```\n",
    "\n",
    "</details>"
   ]
  }
 ],
 "metadata": {
  "kernelspec": {
   "display_name": ".venv",
   "language": "python",
   "name": "python3"
  },
  "language_info": {
   "codemirror_mode": {
    "name": "ipython",
    "version": 3
   },
   "file_extension": ".py",
   "mimetype": "text/x-python",
   "name": "python",
   "nbconvert_exporter": "python",
   "pygments_lexer": "ipython3",
   "version": "3.8.10"
  },
  "orig_nbformat": 4
 },
 "nbformat": 4,
 "nbformat_minor": 2
}
