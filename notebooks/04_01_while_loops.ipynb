{
 "cells": [
  {
   "cell_type": "markdown",
   "metadata": {},
   "source": [
    "# Understanding While Loops"
   ]
  },
  {
   "cell_type": "markdown",
   "metadata": {},
   "source": [
    "Loops in Python are a way to repeat a block of code multiple times. Think of them as a way to tell your computer, \n",
    "\"Keep doing this over and over again until I tell you to stop.\" \n",
    "\n",
    "The `while` loop is one kind of loop that continues as long as a condition remains true.\n",
    "\n",
    "\n",
    "## Understanding Loops in Python\n",
    "\n",
    "Before diving into `while` loops, let's understand what loops are in general. Loops allow us to run a block of code multiple times. It's super handy when we want to do the same thing over and over again, like counting or going through items in a list. Python has two main types of loops: `for` loops and `while` loops.\n",
    "\n",
    "## Syntax of While Loops\n",
    "\n",
    "The `while` loop in Python repeats a block of code as long as a condition is true. Here's the basic syntax:\n",
    "\n",
    "```python\n",
    "while condition:\n",
    "    # Block of code to execute\n",
    "```\n",
    "\n",
    "- `condition`: This is a test that evaluates to `True` or `False`. If it's `True`, the code block runs.\n",
    "- `# Block of code to execute`: This is where you put the code that you want to repeat."
   ]
  },
  {
   "cell_type": "markdown",
   "metadata": {},
   "source": [
    "## Example While Loop Pattern\n",
    "\n",
    "```python\n",
    "# Example of a simple while loop\n",
    "counter = 0\n",
    "while counter < 5:\n",
    "    print(f\"The count is {counter}\")\n",
    "    counter += 1  # This updates the counter, ensuring the loop eventually stops\n",
    "```\n"
   ]
  },
  {
   "cell_type": "markdown",
   "metadata": {},
   "source": [
    "\n",
    "- **Initialization**: We start by setting a counter to 0.\n",
    "- **Condition**: The `while ` loop checks if `counter` is less than 5.\n",
    "- **Block of Code**: If the condition is true, the loop executes its block of code.\n",
    "- **Update**: Inside the loop, we print the counter's value and increase it by 1.\n",
    "- **Repetition**: This repeats, checking the condition and executing the block of code until `counter` is no longer less than 5.\n",
    "\n",
    "### Run the block below to see it in action"
   ]
  },
  {
   "cell_type": "code",
   "execution_count": 9,
   "metadata": {},
   "outputs": [
    {
     "name": "stdout",
     "output_type": "stream",
     "text": [
      "The count is 0\n",
      "The count is 1\n",
      "The count is 2\n",
      "The count is 3\n",
      "The count is 4\n"
     ]
    }
   ],
   "source": [
    "# Example of a simple while loop\n",
    "counter = 0\n",
    "while counter < 5:\n",
    "    print(f\"The count is {counter}\")\n",
    "    counter += 1  # This updates the counter, ensuring the loop eventually stops"
   ]
  },
  {
   "cell_type": "markdown",
   "metadata": {},
   "source": [
    "## Break and Continue\n",
    "\n",
    "`break ` and `continue ` are special commands you can use inside loops to control their execution more precisely.\n",
    "\n",
    "- **Break**: Stops the loop and jumps out of it immediately. It's like telling the loop, \"Okay, we're done here, no matter what.\"\n",
    "- **Continue**: Skips the rest of the code inside the loop for the current iteration and goes directly to the next iteration. It's like saying, \"This one doesn't count, let's move on to the next.\"\n"
   ]
  },
  {
   "cell_type": "code",
   "execution_count": 10,
   "metadata": {},
   "outputs": [
    {
     "name": "stdout",
     "output_type": "stream",
     "text": [
      "Counter is now 1\n",
      "Counter is now 2\n",
      "Counter is now 3\n",
      "Counter is now 4\n",
      "Counter is now 6\n",
      "Counter is now 7\n"
     ]
    }
   ],
   "source": [
    "# Demonstrating break and continue\n",
    "counter = 0\n",
    "while counter < 10:\n",
    "    counter += 1\n",
    "    if counter == 5:\n",
    "        continue  # Skip the rest of the loop when counter is 5\n",
    "    if counter == 8:\n",
    "        break  # Stop the loop when counter is 8\n",
    "    print(f\"Counter is now {counter}\")"
   ]
  },
  {
   "cell_type": "markdown",
   "metadata": {},
   "source": [
    "\n",
    "\n",
    "- In this loop, when the counter is 5, we skip printing it thanks to `continue`.\n",
    "- When the counter reaches 8, we exit the loop with `break`, so 8 and any numbers after it are not printed.\n",
    "\n",
    "### Try it out"
   ]
  },
  {
   "cell_type": "markdown",
   "metadata": {},
   "source": [
    "\n",
    "Experiment with `break ` and `continue ` in a loop. Try creating a loop that\n",
    "counts from 1 to 10 but skip 2 and 8 using `continue ` and stop the loop entirely\n",
    "if it reaches 7 using `break `.\n"
   ]
  },
  {
   "cell_type": "code",
   "execution_count": null,
   "metadata": {},
   "outputs": [],
   "source": [
    "# Try out code: Skip 2 and 6 and stop if the counter reaches 7\n",
    "counter = 0\n",
    "while True:\n",
    "    print(\"Modify this code\")"
   ]
  },
  {
   "cell_type": "markdown",
   "metadata": {},
   "source": [
    "\n",
    "<details>\n",
    "<summary>🔑 Click here for the solution</summary>\n",
    "\n",
    "```py\n",
    "counter = 0\n",
    "while counter < 10:\n",
    "    if counter == 2:\n",
    "        continue\n",
    "    if counter == 6:\n",
    "        continue\n",
    "    if counter == 7:\n",
    "        break\n",
    "    print(counter)\n",
    "```\n",
    "\n",
    "</details>\n"
   ]
  },
  {
   "cell_type": "markdown",
   "metadata": {},
   "source": [
    "## Exercises with the Turtle Module 🐢\n",
    "\n",
    "Let's use the `turtle` module to draw shapes using while loops, which will help\n",
    "us understand loops better and see them in action!\n",
    "\n",
    "### Exercise 1: Draw a Square 🟦\n",
    "\n",
    "We'll use a while loop to make Turtle draw a square.\n",
    "\n",
    "For each iteration of the loop, draw one side of the square and then turn right.\n",
    "Make sure to end the loop after all 4 sides are drawn.\n"
   ]
  },
  {
   "cell_type": "code",
   "execution_count": null,
   "metadata": {},
   "outputs": [],
   "source": [
    "from ipyturtle import Turtle\n",
    "\n",
    "# Set up the turtle\n",
    "my_turtle = Turtle()\n",
    "\n",
    "# Start here\n",
    "\n"
   ]
  },
  {
   "cell_type": "markdown",
   "metadata": {},
   "source": [
    "\n",
    "<details>\n",
    "<summary>🔑 Click here for the solution</summary>\n",
    "\n",
    "```py\n",
    "# Set up the turtle\n",
    "my_turtle = Turtle()\n",
    "\n",
    "# Draw a square\n",
    "i = 0\n",
    "while i < 4:\n",
    "    my_turtle.forward(100)  # Move forward 100 units\n",
    "    my_turtle.right(90)  # Turn right 90 degrees\n",
    "    i += 1  # Move to the next iteration\n",
    "```\n",
    "\n",
    "</details>\n"
   ]
  },
  {
   "cell_type": "markdown",
   "metadata": {},
   "source": [
    "### Exercise 2: Draw a Spiral 🌀\n",
    "\n",
    "Now, let's make a spiral. \n",
    "\n",
    "Start off with a line length of your choice. Then, with each iteration of the loop:\n",
    "- Draw a line \n",
    "- Turn 45 degrees\n",
    "- Increase the line length by a fixed amount\n",
    "\n",
    "Stop after you reach a line length of your choosing. Play with different values\n",
    "for the starting length, the increase, and the final length."
   ]
  },
  {
   "cell_type": "code",
   "execution_count": null,
   "metadata": {},
   "outputs": [],
   "source": [
    "# Set up the turtle for drawing a spiral\n",
    "spiral_turtle = Turtle()\n",
    "\n",
    "# Start here"
   ]
  },
  {
   "cell_type": "markdown",
   "metadata": {},
   "source": [
    "\n",
    "<details>\n",
    "<summary>🔑 Click here for the solution</summary>\n",
    "\n",
    "```py\n",
    "# Set up the turtle for drawing a spiral\n",
    "spiral_turtle = Turtle()\n",
    "\n",
    "# Draw a spiral\n",
    "length = 5\n",
    "while length < 100:\n",
    "    spiral_turtle.forward(length)\n",
    "    spiral_turtle.right(45)\n",
    "    length += 5  # Increase the length for the spiral effect\n",
    "```\n",
    "\n",
    "</details>\n"
   ]
  },
  {
   "cell_type": "markdown",
   "metadata": {},
   "source": [
    "\n",
    "\n",
    "- In the first exercise, Turtle draws a square by repeating a forward move and a right turn four times.\n",
    "- In the second exercise, Turtle draws a spiral by gradually increasing the length of its movement."
   ]
  }
 ],
 "metadata": {
  "kernelspec": {
   "display_name": ".venv",
   "language": "python",
   "name": "python3"
  },
  "language_info": {
   "codemirror_mode": {
    "name": "ipython",
    "version": 3
   },
   "file_extension": ".py",
   "mimetype": "text/x-python",
   "name": "python",
   "nbconvert_exporter": "python",
   "pygments_lexer": "ipython3",
   "version": "3.8.10"
  },
  "orig_nbformat": 4
 },
 "nbformat": 4,
 "nbformat_minor": 2
}
