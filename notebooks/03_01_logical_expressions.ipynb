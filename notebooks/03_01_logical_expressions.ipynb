{
 "cells": [
  {
   "cell_type": "markdown",
   "metadata": {},
   "source": [
    "# Logical Expressions\n",
    "\n",
    "Logical expressions in Python are like the brain's decision-making moments. Just\n",
    "like you decide if it's a good idea to wear a jacket based on the weather,\n",
    "Python uses logical expressions to make decisions. These decisions are always\n",
    "about figuring out if something is `True` or `False`. Let's dive into this cool\n",
    "concept! 🧠✨\n",
    "\n",
    "<iframe width=\"560\" height=\"315\" src=\"https://www.youtube-nocookie.com/embed/wivz8ytlHBs?si=Rdk5OVWcMUIhzzXs\" title=\"YouTube video player\" frameborder=\"0\" allow=\"accelerometer; autoplay; clipboard-write; encrypted-media; gyroscope; picture-in-picture; web-share\" referrerpolicy=\"strict-origin-when-cross-origin\" allowfullscreen></iframe>\n",
    "\n",
    "## True and False: The Basics\n",
    "\n",
    "In Python, every logical expression is evaluated to either `True` or `False`. These are special values in Python:\n",
    "- `True` is like saying \"Yes, this statement is correct.\"\n",
    "- `False` is like saying \"Nope, this statement is not correct.\"\n",
    "\n",
    "## Comparisons: Making Decisions\n",
    "\n",
    "Comparison operators help us make True or False decisions in Python by comparing values:\n",
    "\n",
    "| Operator | Description                 | Example         |\n",
    "|----------|-----------------------------|-----------------|\n",
    "| `==`     | Equal to                    | `5 == 5` is True|\n",
    "| `!=`     | Not equal to                | `5 != 3` is True|\n",
    "| `>`      | Greater than                | `7 > 9` is False |\n",
    "| `<`      | Less than                   | `3 < 5` is True |\n",
    "| `>=`     | Greater than or equal to    | `5 >= 5` is True|\n",
    "| `<=`     | Less than or equal to       | `7 <= 5` is False|\n"
   ]
  },
  {
   "cell_type": "markdown",
   "metadata": {},
   "source": [
    "## Examples of Comparison Operators in Python\n",
    "\n",
    "<iframe width=\"560\" height=\"315\" src=\"https://www.youtube-nocookie.com/embed/NzXx9E19-M8?si=oEEeiGBuz7rLPHp2\" title=\"YouTube video player\" frameborder=\"0\" allow=\"accelerometer; autoplay; clipboard-write; encrypted-media; gyroscope; picture-in-picture; web-share\" referrerpolicy=\"strict-origin-when-cross-origin\" allowfullscreen></iframe>\n",
    "\n"
   ]
  },
  {
   "cell_type": "markdown",
   "metadata": {},
   "source": [
    "## Greater Than `>` Example\n",
    "\n",
    "This code asks the user to input two numbers and then prints out whether the first number is greater than the second number."
   ]
  },
  {
   "cell_type": "code",
   "execution_count": null,
   "metadata": {},
   "outputs": [],
   "source": [
    "num1 = int(input(\"Type a number:\"))\n",
    "num2 = int(input(\"Type another number:\"))\n",
    "\n",
    "print(\"Is the first number greater than the second number?\", num1 > num2)"
   ]
  },
  {
   "cell_type": "markdown",
   "metadata": {},
   "source": [
    "Try reversing the numbers in the logical expression above and rerun the code to\n",
    "checkout the results!"
   ]
  },
  {
   "cell_type": "markdown",
   "metadata": {},
   "source": [
    "## Equals `==` Example\n",
    "\n",
    "This code takes two user inputs as numbers and then prints out whether or not these inputs are the same."
   ]
  },
  {
   "cell_type": "code",
   "execution_count": null,
   "metadata": {},
   "outputs": [],
   "source": [
    "user_input_1 = input(\"Type a number:\")\n",
    "user_input_2 = input(\"Type another number:\")\n",
    "\n",
    "print(\"Are the inputs the same?\", user_input_1 == user_input_2)"
   ]
  },
  {
   "cell_type": "markdown",
   "metadata": {},
   "source": [
    "### Try it out:\n",
    "\n",
    "1) Type \"apple\" and \"apple\" and check the output.\n",
    "2) Type \"APPLE\" and \"apple\" and check the output.\n",
    "3) Type \"Apple\" and \"apple\" and check the output.\n",
    "\n",
    "Notice how letter casing matters!!!"
   ]
  },
  {
   "cell_type": "markdown",
   "metadata": {},
   "source": [
    "## Not equals `!=` example"
   ]
  },
  {
   "cell_type": "code",
   "execution_count": null,
   "metadata": {},
   "outputs": [],
   "source": [
    "print(5 != 3)\n",
    "\n",
    "print(\"hello\" != \"Hello\")\n",
    "\n",
    "print(\"hello\" != \"hello\")"
   ]
  },
  {
   "cell_type": "markdown",
   "metadata": {},
   "source": [
    "### How does this work?\n",
    "\n",
    "- The first line `print(5 != 3)` checks if 5 is not equal to 3, which is true, so\n",
    "it prints `True`. \n",
    "\n",
    "- The second line `print(\"hello\" != \"Hello\")` compares two strings with different\n",
    "capitalization, and since they are not the same, it prints `True`. \n",
    "\n",
    "- The third line `print(\"hello\" != \"hello\")` compares two identical strings, so it prints `False` as they are exactly the same.\n",
    "\n",
    "---"
   ]
  },
  {
   "cell_type": "markdown",
   "metadata": {},
   "source": [
    "## Meet `and`, `or`, and `not`\n",
    "\n",
    "<iframe width=\"560\" height=\"315\" src=\"https://www.youtube-nocookie.com/embed/Nk0nJgOe3I8?si=0XLSbJgGsL0biWQo\" title=\"YouTube video player\" frameborder=\"0\" allow=\"accelerometer; autoplay; clipboard-write; encrypted-media; gyroscope; picture-in-picture; web-share\" referrerpolicy=\"strict-origin-when-cross-origin\" allowfullscreen></iframe>\n",
    "\n",
    "Alright, so we've talked about comparisons and how they're like asking Python\n",
    "simple yes-or-no questions. Now, let's add a twist with the `and`, `or`, and\n",
    "`not` operators. These are like the connectors in our decision-making. Think of\n",
    "them as helping us make more complex choices! 🤹‍♂️🧩\n",
    "\n",
    "| Operator | Description                              |\n",
    "|----------|------------------------------------------|\n",
    "| `and`    | True if both conditions are true         |\n",
    "| `or`     | True if at least one condition is true   |\n",
    "| `not`    | Inverts the truth value of a condition   |\n",
    "\n"
   ]
  },
  {
   "cell_type": "markdown",
   "metadata": {},
   "source": [
    "### The `and` Operator: Both Must Be True\n",
    "\n",
    "Think of `and` as the strict rule-keeper. It only says `True` if *both* things you're checking are true. It's like needing two 'Yes'es for a green light.\n",
    "\n",
    "Here’s how it works:"
   ]
  },
  {
   "cell_type": "code",
   "execution_count": null,
   "metadata": {},
   "outputs": [],
   "source": [
    "print(True and True)   # Both are true, so this is True\n",
    "print(True and False)  # One is false, so this is False"
   ]
  },
  {
   "cell_type": "markdown",
   "metadata": {},
   "source": [
    "### Challenge:\n",
    "\n",
    "Complete the code to verify if `user_input` falls within the range greater than `min_value` (1) and less than or equal to `max_value` (10).\n",
    "\n",
    "**To Do:** Use a logical expression so `result` becomes `True` only if `user_input` is more than 1 and at most 10."
   ]
  },
  {
   "cell_type": "code",
   "execution_count": null,
   "metadata": {},
   "outputs": [],
   "source": [
    "min_value = 1\n",
    "max_value = 10\n",
    "user_input = int(input(\"Please enter a number: \"))\n",
    "\n",
    "result = False # <- Update this line\n",
    "\n",
    "print(f\"Is your number between {min_value} and {max_value}? {result}\")\n"
   ]
  },
  {
   "cell_type": "markdown",
   "metadata": {},
   "source": [
    "<details>\n",
    "<summary>🔑 Click here for the solution</summary>\n",
    "\n",
    "```py\n",
    "min_value = 1\n",
    "max_value = 10\n",
    "user_input = int(input(\"Please enter a number: \"))\n",
    "\n",
    "result = min_value < user_input and user_input < max_value\n",
    "\n",
    "print(f\"Is your number between {min_value} and {max_value}? {result}\")\n",
    "```\n",
    "\n",
    "</details>"
   ]
  },
  {
   "cell_type": "markdown",
   "metadata": {},
   "source": [
    "### The `or` Operator: Just One Needs to Be True\n",
    "\n",
    "Now, `or` is more laid-back. It’s happy if *either* of the things you're checking is true. Just one 'Yes' is enough for it.\n",
    "\n",
    "Here’s an example:\n"
   ]
  },
  {
   "cell_type": "code",
   "execution_count": null,
   "metadata": {},
   "outputs": [],
   "source": [
    "print(True or False)  # One is true, so this is True\n",
    "print(False or False) # Both are false, so this is False"
   ]
  },
  {
   "cell_type": "markdown",
   "metadata": {},
   "source": [
    "#### Try out this example:\n",
    "\n",
    "In Python, it might look like. Run the code and see what happens:"
   ]
  },
  {
   "cell_type": "code",
   "execution_count": null,
   "metadata": {},
   "outputs": [],
   "source": [
    "print((5 > 3) or (2 > 4))"
   ]
  },
  {
   "cell_type": "markdown",
   "metadata": {},
   "source": [
    "\n",
    "### The `not` Operator: Flipping the Answer\n",
    "\n",
    "`not` is the rebel. It flips the answer. If something is `True`, `not` makes it `False`, and vice versa. It's like saying \"Just the opposite, please!\"\n",
    "\n",
    "Check this out:\n"
   ]
  },
  {
   "cell_type": "code",
   "execution_count": null,
   "metadata": {},
   "outputs": [],
   "source": [
    "print(not True)  # This becomes False\n",
    "print(not False) # And this becomes True"
   ]
  },
  {
   "cell_type": "markdown",
   "metadata": {},
   "source": [
    "#### Try out this example:\n",
    "\n",
    "In a Python condition, you could see the code below. Run the code and see what happens:"
   ]
  },
  {
   "cell_type": "code",
   "execution_count": null,
   "metadata": {},
   "outputs": [],
   "source": [
    "print(not (5 > 3))"
   ]
  },
  {
   "cell_type": "markdown",
   "metadata": {},
   "source": [
    "\n",
    "## Do I need a jacket?\n",
    "\n",
    "Create a program that asks if it's raining and checks the temperature. If it's raining (or will rain soon) with temperatures below 100 degrees, or if it's not raining but colder than 50 degrees, the program advises wearing a jacket.\n",
    "\n",
    "**Hint:** In the code, user inputs `yes` for yes and `no` for no. Check if\n",
    "`is_raining` equals `yes` or `soon` to determine the rain status."
   ]
  },
  {
   "cell_type": "code",
   "execution_count": null,
   "metadata": {},
   "outputs": [],
   "source": [
    "is_raining = input(\"Is it raining? (yes/no/soon): \")\n",
    "temperature = input(\"What temperature is it outside?: \")\n",
    "\n",
    "result = False\n",
    "\n",
    "print(f\"Do I need a jacket? {result}\")"
   ]
  },
  {
   "cell_type": "markdown",
   "metadata": {},
   "source": [
    "<details>\n",
    "<summary>🔑 Click here for the solution</summary>\n",
    "\n",
    "```py\n",
    "is_raining = input(\"Is it raining? (yes/no/soon): \")\n",
    "temperature = input(\"What temperature is it outside?: \")\n",
    "\n",
    "result = ((is_raining == \"yes\" or is_raining == \"soon\") and temperature < 100) or temperature < 50\n",
    "\n",
    "print(f\"Do I need a jacket? {result}\") \n",
    "```\n",
    "\n",
    "</details>"
   ]
  }
 ],
 "metadata": {
  "language_info": {
   "name": "python"
  },
  "orig_nbformat": 4
 },
 "nbformat": 4,
 "nbformat_minor": 2
}
